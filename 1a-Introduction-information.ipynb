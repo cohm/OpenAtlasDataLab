{
 "cells": [
  {
   "cell_type": "markdown",
   "metadata": {},
   "source": [
    " ## <CENTER> Lab: Measure elementary particles using data from the ATLAS experiment\n",
    "<img src=\"images/vp1_Htautau_1muon1electron_run204153_evt35369265.png\" style=\"width: 800px;\">"
   ]
  },
  {
   "cell_type": "markdown",
   "metadata": {},
   "source": [
    "## 1.1 Introduction\n",
    "   \n",
    "In this lab you will analyze real data from the ATLAS experiment at CERN's Large Hadron Collider! The experiment recently made 10 fb$^{-1}$ of the data collected in 2016 available for the general public. The data contains the reconstructed particles and energy deposits from proton-proton collisions at $\\sqrt{s}=13$ TeV. You will analyze the data with the `python` programming language in this interactive environment where you are reading these instructions.\n",
    "After showing you some examples we'll let you go hunting yourself after particles in the data!\n",
    "___________________________________________________________"
   ]
  },
  {
   "cell_type": "markdown",
   "metadata": {},
   "source": [
    "## 1.2 Collision events in the ATLAS experiment\n",
    "    \n",
    "The Large Hadron Collider at CERN outside Geneva accelerates bunches of protons ($10^{11}$ protons/bunch) up to near-speed-of-light velocities in two beams traveling in opposite directions around the 27-km circular tunnel. The beams are crossed at four different points to create high-energy collisions between pairs of protons, and around these points large experiments are situated to study the processes: ATLAS, CMS, LHCb and ALICE. Today you will analyze data from the ATLAS experiment. \n",
    "\n",
    "Every time two bunches cross inside ATLAS (every 25 nanoseconds) approximately 40 individual proton pairs collide. From the energy of the protons that collide, other particles, such as the $Z^0$ boson, can be created and studied. Many of the particles of interest in the studies are unstable and have short lifetimes, so they will decay before reaching the detector. The stable particles appearing at the end of the decay chain fly out through the detector and can be registered (depending on the type of particle). Every such \"photo\" of all the particles registered by the detector from one bunch crossing is called an \"event\". Events, which are of order 1 MB in size, are stored in data files, like the ones you will be analysing today. The files are organised like tables where each row is an event, each column corresponds to some information about an event, e.g. the number of obserbed electrons and their respective energies.\n",
    "\n",
    "Below is an illustration of the ATLAS detector and in the next section we will see how its pieces all help to identify different types of particles created in the collisions.\n",
    "\n",
    "<img src=\"images/ATLASImage.jpg\" style=\"width: 800px;\">"
   ]
  },
  {
   "cell_type": "markdown",
   "metadata": {},
   "source": [
    "## 1.3 Particle identification with ATLAS\n",
    "The ATLAS detector is designed to identify different particles with high efficiency. \n",
    "It is composed of main four subsystems installed in layers around the collision point:\n",
    "* <b> Inner tracking detector </b> This detector is mainly made up of thin layers of silicon in which charged particles interact. A strong solenoidal magnetic field bends the trajectories of charged particles, and by determining the curvature of the tracks that the charged particles leave, their momentum can be measured.\n",
    "* <b> Electromagnetic calorimeter </b> This detector mainly consists of liquid argon and copper. It is designed to measure the energy of electrons ($e^-$), positrons ($e^+$) and photons ($\\gamma$). These particles give rise to *showers* of energy when interacting with the detector material. The energy deposited in these showers is measured and used to estimate the energy of the original particles.\n",
    "* <b> Hadronic calorimeter </b> Hadrons are particles made up of quarks and or anti-quarks, e.g. protons ($uud$) and charged pions ($u\\bar{d}$). They are heavier than electrons and only leave a small part of their energy in the electromagnetic calorimeter. Hadrons are instead stopped by the hadronic calorimeter, which consists of steel and plastic scintillators.\n",
    "* <b> Muon spectrometer </b> Muons and anti-muons penetrate all of the above systems and reach the dedicated muon detector. The muons have electric charge and are measured in a similar way as the charged particles in the inner tracking detector. The muon spectrometer is the largest subsystem and consists mainly of drift tubes with gas that is ionized by the charged particles passing through. A toroidal magnetic field provides bending of the trajectories of the muons which allows measuring their momenta.\n",
    "\n",
    "<img src=\"images/atlas_pid.jpg\">\n"
   ]
  },
  {
   "cell_type": "markdown",
   "metadata": {},
   "source": [
    "## 1.4 The $Z^0$ boson as an example\n",
    "In the Standard Model of particle physics, there are matter particles, fermions, which have half-integer spin ($\\hbar/2$). Particles with integer spin ($n\\hbar$) are called bosons and act as force carriers, mediating interaction. The photon is the mediator for the electromagnetic force, and gluons mediate the strong force.\n",
    "\n",
    "The $Z^0$ and $W^{\\pm}$ bosons mediate the weak nuclear force, responsible for e.g. radioactive decay.\n",
    "The $Z^0$ boson was discovered at CERN in 1983 using the Super Proton Synchrotron (by then the most powerful accelerator, now it's used as part of the accelerator chain leading up to the LHC).\n",
    "It is a heavy particle, weighing almost as much as a silver atom.\n",
    "Look up the mass value and its corresponding uncertainty, e.g. by consulting the [Particle Data Group](http://pdg.lbl.gov).\n",
    "(The PDG reviews measurements from different experiments and combines them to provide the most precise values known to-date.)\n",
    "\n",
    "The lifetime of the $Z^0$ boson is incredibly short ($3×10^{−25}$ s).\n",
    "After it is produced in a $pp$ collision it decays promptly to two fermions, e.g. an electron-positron pair, represented by the <a href=\"https://en.wikipedia.org/wiki/Feynman_diagram\">Feynman diagram</a> below.\n",
    "It also decays to a muon-antimuon pair (replace the $e$'s by $\\mu$'s on the right in the diagram).\n",
    "<b> We may therefore search for $Z^0$ bosons in data by filtering for events with electron-positron or muon-antimuon pairs. </b>\n",
    "What about decay to quark-antiquark pairs?\n",
    "In fact, the $Z^0$ boson decays to quarks much more often than to charged leptons.\n",
    "The issue is that final states with quarks are experimentally challenging, because they are very common to produce at hadron colliders, without any $Z^0$ boson being involved. This means that there is a lot of _background_ when trying to measure the $Z^0 \\rightarrow q\\bar{q}$ _signal_.\n",
    "Very few other processes give $e^+e^-$ and $\\mu^+\\mu^-$ pairs, so by choosing the events with electrons and muons we get a *cleaner* final state without much background."
   ]
  },
  {
   "cell_type": "markdown",
   "metadata": {},
   "source": [
    "\n",
    "\n",
    "<img src=\"images/Z_ElectronPositron.png\" style=\"width: 400px;\">\n"
   ]
  },
  {
   "cell_type": "markdown",
   "metadata": {},
   "source": [
    "## 1.5 Coordinate system and invariant mass\n",
    "If an event contains e.g. two electrons, we can reconstruct the invariant mass of this two-electron system.\n",
    "With the approximation that the electrons are massless, the formula for the invariant mass is given by (1) below,\n",
    "where 1 and 2 are indices for the two electrons, $p$ stands for momentum and $\\alpha$ is the angle between the electrons (in the lab frame).\n",
    "\n",
    "The coordinate system used is illustrated by the figures below. \n",
    "The $z$-axis is parallel to the beam direction, the $y$-axis points up and the $x$-axis points into the center of the LHC ring. \n",
    "In ATLAS, the *tranverse momentum*, $p_\\rm{T}$, of a particle is measured. This quantity is the projection of the momentum in the plane perpendicular (or transverse) to the beam direction, i.e. in the $x$-$y$ plane. To calculate this, let's first define a few angles. \n",
    "* The angle $\\theta$ is defined as the angle between the particle and the positive $z$-axis. Typically, \"pseudorapidity\" $\\eta$ is used instead of $\\theta$, defined according to the equation in the figure below. \n",
    "* The angle $\\phi$ describes the direction of the particle in the $x$-$y$ plane, defined as the angle between the projection of the momentum vector and the positive $x$-axis.\n",
    "\n",
    "____________________________________________________________________\n",
    "<img src=\"images/eta_and_pT.png\" style=\"width: 800px;\">\n",
    "\n",
    "In the $xy$ plane the transverse momentum $p_\\rm{T}$ is the magnitude of the projection of the momentum in the transverse plane, forming the angle $\\phi$ with the positive $x$-axis.\n",
    "\n",
    "The invariant mass for a system of  particles can be calculated with the sum of their energies ($E$) and momentum vectors ($\\vec{p}$)\n",
    "\n",
    "$$\n",
    "m^2 = E^2 - |\\vec{p}|^2.\n",
    "$$\n",
    "\n",
    "At relativistic energies, i.e. when the masses of the particles are small compared to their energies and the expression for a two-particle system can be simplified to\n",
    "\n",
    "$$\n",
    "m^2 \\approx 2 ( E_1 E_2 - \\vec{p_1}\\cdot\\vec{p_2}) \\approx 2 p_1 p_2 (1 - \\cos\\alpha),\n",
    "$$\n",
    "\n",
    "and also expressed as\n",
    "\n",
    "$$\n",
    "m^2 \\approx 2 p_\\rm{T1} p_\\rm{T2} (\\cosh(\\eta_1 - \\eta_2) - \\cos(\\phi_1 - \\phi_2)).\n",
    "$$"
   ]
  },
  {
   "cell_type": "markdown",
   "metadata": {},
   "source": [
    "#### In the next exercise you'll try to access the data and see what variables are accessible - see [1b-Introduction-exercise](1b-Introduction-exercise.ipynb)!"
   ]
  }
 ],
 "metadata": {
  "kernelspec": {
   "display_name": "Python 3",
   "language": "python",
   "name": "python3"
  },
  "language_info": {
   "codemirror_mode": {
    "name": "ipython",
    "version": 3
   },
   "file_extension": ".py",
   "mimetype": "text/x-python",
   "name": "python",
   "nbconvert_exporter": "python",
   "pygments_lexer": "ipython3",
   "version": "3.8.2"
  }
 },
 "nbformat": 4,
 "nbformat_minor": 2
}
