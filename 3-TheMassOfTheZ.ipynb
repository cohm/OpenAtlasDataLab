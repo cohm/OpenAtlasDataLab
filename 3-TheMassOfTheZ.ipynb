{
 "cells": [
  {
   "cell_type": "markdown",
   "metadata": {},
   "source": [
    "## <CENTER> The $Z^0$ boson as an example\n",
    "_____________________________________________"
   ]
  },
  {
   "cell_type": "markdown",
   "metadata": {},
   "source": [
    "### Using what you have learned so far, let's see if we can find the $Z^0$ boson as an example!\n",
    "_____________________________________________"
   ]
  },
  {
   "cell_type": "code",
   "execution_count": 2,
   "metadata": {},
   "outputs": [
    {
     "name": "stdout",
     "output_type": "stream",
     "text": [
      "Welcome to JupyROOT 6.14/00\n"
     ]
    }
   ],
   "source": [
    "# import the ROOT library\n",
    "import ROOT"
   ]
  },
  {
   "cell_type": "markdown",
   "metadata": {},
   "source": [
    "### Get the data"
   ]
  },
  {
   "cell_type": "code",
   "execution_count": 3,
   "metadata": {},
   "outputs": [
    {
     "name": "stdout",
     "output_type": "stream",
     "text": [
      "Loaded sample data containing 668152 events\n",
      "Loaded sample mc2e containing 21848524 events\n",
      "Loaded sample mc2mu containing 22122816 events\n"
     ]
    }
   ],
   "source": [
    "# http://opendata.atlas.cern/release/samples/2019/\n",
    "# Look at the above web page, you will find simulated data and real experimental data.\n",
    "# The data is divided into different final states, and for this exercise we'll look\n",
    "# at dilepton events, so navigate into the \"2lep\" directory, then \"data\". There are several\n",
    "# files, and we can load them all sequentially in a \"chain\". The tree we want to access\n",
    "# inside the files is called \"mini\"\n",
    "chains = {}\n",
    "chains[\"data\"] = ROOT.TChain(\"mini\")\n",
    "chains[\"mc2e\"] = ROOT.TChain(\"mini\")\n",
    "chains[\"mc2mu\"] = ROOT.TChain(\"mini\")\n",
    "\n",
    "# there are several files for the data\n",
    "chains[\"data\"].Add(\"http://opendata.atlas.cern/release/samples/2019/2lep/Data/data_A.2lep.root\")\n",
    "#chain.Add(\"http://opendata.atlas.cern/release/samples/2019/2lep/Data/data_B.2lep.root\")\n",
    "#chain.Add(\"http://opendata.atlas.cern/release/samples/2019/2lep/Data/data_C.2lep.root\")\n",
    "#chain.Add(\"http://opendata.atlas.cern/release/samples/2019/2lep/Data/data_D.2lep.root\")\n",
    "\n",
    "chains[\"mc2e\"].Add(\"http://opendata.atlas.cern/release/samples/2019/2lep/MC/mc_361106.Zee.2lep.root\")\n",
    "chains[\"mc2mu\"].Add(\"http://opendata.atlas.cern/release/samples/2019/2lep/MC/mc_361107.Zmumu.2lep.root\")\n",
    "\n",
    "for s in chains:\n",
    "    print(\"Loaded sample %s containing %d events\" % (s, chains[s].GetEntries()))"
   ]
  },
  {
   "cell_type": "markdown",
   "metadata": {},
   "source": [
    "### Helper function for invariant mass"
   ]
  },
  {
   "cell_type": "code",
   "execution_count": 4,
   "metadata": {},
   "outputs": [],
   "source": [
    "# this function calculates the invariant mass of a two-particle system\n",
    "def getInvMass(lep1_pt, lep1_eta, lep1_phi, lep2_pt, lep2_eta, lep2_phi):\n",
    "    ''' Compute the invariant mass using the formula from the Introduction notebook (assume massless particles)'''\n",
    "    import math\n",
    "    m2 = 2*lep1_pt*lep2_pt*(math.cosh(lep1_eta-lep2_eta)-math.cos(lep1_phi-lep2_phi))\n",
    "    return math.sqrt(m2) "
   ]
  },
  {
   "cell_type": "markdown",
   "metadata": {},
   "source": [
    "### Prepare histograms"
   ]
  },
  {
   "cell_type": "code",
   "execution_count": 9,
   "metadata": {},
   "outputs": [],
   "source": [
    "# create a histogram for invariant mass\n",
    "\n",
    "# define the number of bins and axis range\n",
    "nBins = 150\n",
    "lowerEdge = 0\n",
    "upperEdge = 150\n",
    "\n",
    "# make a python dictionary holding the histograms for each of the samples\n",
    "massHistos = {}\n",
    "\n",
    "# loop over the samples to create the histograms and the counters\n",
    "for sample in chains:\n",
    "    massHistos[sample+\"_ee\"] = ROOT.TH1F(\"InvariantMass_%s_ee\" % sample, \"; Invariant mass [GeV]; Number of events\", nBins, lowerEdge, upperEdge)\n",
    "    massHistos[sample+\"_mumu\"] = ROOT.TH1F(\"InvariantMass_%s_mumu\" % sample, \"; Invariant mass [GeV]; Number of events\", nBins, lowerEdge, upperEdge)\n",
    "    \n"
   ]
  },
  {
   "cell_type": "markdown",
   "metadata": {},
   "source": [
    "### Run the event loop, find electron-positron/muon-antimuon pairs, evaluate the invariant mass, fill histogram(s). You are looking at data-not all events will contain a $Z^0$ boson. What cuts/requirements do you need to apply to filter out $Z^0$ boson candidate events? In the notebook 1 the different variables in the tree are listed."
   ]
  },
  {
   "cell_type": "code",
   "execution_count": 10,
   "metadata": {},
   "outputs": [
    {
     "name": "stdout",
     "output_type": "stream",
     "text": [
      "Processed event 0 of data, filled m = 92150.030162\n",
      "Processed event 1000 of data, filled m = 83789.694825\n",
      "Processed event 2000 of data, filled m = 82315.365551\n",
      "Processed event 3000 of data, filled m = 81728.506820\n",
      "Processed event 4000 of data, filled m = 23894.550562\n",
      "Processed event 5000 of data, filled m = 89061.837246\n",
      "Processed event 6000 of data, filled m = 40686.713403\n",
      "Processed event 7000 of data, filled m = 87908.994413\n",
      "Processed event 8000 of data, filled m = 97660.506267\n",
      "Processed event 9000 of data, filled m = 88647.539599\n",
      "Processed event 10000 of data, filled m = 92721.214498\n",
      "Processed event 0 of mc2e, filled m = 83241.084941\n",
      "Processed event 1000 of mc2e, filled m = 92482.032553\n",
      "Processed event 2000 of mc2e, filled m = 80452.872361\n",
      "Processed event 3000 of mc2e, filled m = 96520.839646\n",
      "Processed event 4000 of mc2e, filled m = 73808.429068\n",
      "Processed event 5000 of mc2e, filled m = 85791.654421\n",
      "Processed event 6000 of mc2e, filled m = 90805.219731\n",
      "Processed event 7000 of mc2e, filled m = 108896.859720\n",
      "Processed event 8000 of mc2e, filled m = 92741.424110\n",
      "Processed event 9000 of mc2e, filled m = 90170.175916\n",
      "Processed event 10000 of mc2e, filled m = 92883.275219\n",
      "Processed event 0 of mc2mu, filled m = 96437.601661\n",
      "Processed event 1000 of mc2mu, filled m = 92346.779946\n",
      "Processed event 2000 of mc2mu, filled m = 91813.619357\n",
      "Processed event 3000 of mc2mu, filled m = 92195.957097\n",
      "Processed event 4000 of mc2mu, filled m = 91545.343737\n",
      "Processed event 5000 of mc2mu, filled m = 90405.699920\n",
      "Processed event 6000 of mc2mu, filled m = 90792.058087\n",
      "Processed event 7000 of mc2mu, filled m = 95051.939074\n",
      "Processed event 8000 of mc2mu, filled m = 91952.972700\n",
      "Processed event 9000 of mc2mu, filled m = 79912.948447\n",
      "Processed event 10000 of mc2mu, filled m = 93367.688164\n"
     ]
    }
   ],
   "source": [
    "# clear the histogram, so you don't fill the same events several times if you re-run the loop\n",
    "for s in massHistos:\n",
    "    massHistos[s].Reset()\n",
    "\n",
    "# loop over all of the samples, i.e. both data and the two simulated MC samples\n",
    "for s in chains:\n",
    "    # keep track of the number of events processed\n",
    "    nEvents = 0\n",
    "    maxEvents = 10000 # stop after this many events, useful during development\n",
    "    # also keep track of the number of electron-positron and muon-antimuon pairs found\n",
    "    for event in chains[s]:\n",
    "        if nEvents > maxEvents:\n",
    "            break\n",
    "        # only process events which have exactly two leptons in them, as we expect for Z->ll\n",
    "        if event.lep_n == 2:\n",
    "            # skip events with different-flavor lepton pairs\n",
    "            if event.lep_type[0] != event.lep_type[1]:\n",
    "                continue\n",
    "            # also skip events with same-sign leptons, we don't expect that from Z decays\n",
    "            if event.lep_charge[0] == event.lep_charge[1]:\n",
    "                continue\n",
    "            m = getInvMass(event.lep_pt[0], event.lep_eta[0], event.lep_phi[0],\n",
    "                          event.lep_pt[1], event.lep_eta[1], event.lep_phi[1])\n",
    "            # fill the right histogram depending on the type of lepton pair found\n",
    "            if event.lep_type[0] == 11:\n",
    "                massHistos[s+\"_ee\"].Fill(m/1000) # divide by 1000 to go from MeV to GeV\n",
    "            elif event.lep_type[0] == 13:\n",
    "                massHistos[s+\"_mumu\"].Fill(m/1000) # divide by 1000 to go from MeV to GeV\n",
    "            if nEvents % 1000 == 0: # only do a print-out every 1000 events\n",
    "                print(\"Processed event %d of %s, filled m = %f\" % (nEvents, s, m))\n",
    "        nEvents += 1"
   ]
  },
  {
   "cell_type": "markdown",
   "metadata": {},
   "source": [
    "**Note:**: Since it takes a long time to run over all data, only run over a small number of events while developing. Then, when you are satisfied with the method, you can increase the number of events."
   ]
  },
  {
   "cell_type": "markdown",
   "metadata": {},
   "source": [
    "### Draw the invariant mass. Do you see the $Z^0$ boson peak?\n",
    "\n",
    "Let's first have a look at the two MC samples, to see if there are any significant differences expected between electrons and muons"
   ]
  },
  {
   "cell_type": "code",
   "execution_count": 33,
   "metadata": {},
   "outputs": [
    {
     "data": {
      "text/html": [
       "\n",
       "<div id=\"root_plot_19\"\n",
       "     style=\"width: 796px; height: 572px\">\n",
       "</div>\n",
       "\n",
       "<script>\n",
       " requirejs.config({\n",
       "     paths: {\n",
       "       'JSRootCore' : '/static/jsroot//scripts/JSRootCore',\n",
       "     }\n",
       "   });\n",
       " require(['JSRootCore'],\n",
       "     function(Core) {\n",
       "       var obj = Core.JSONR_unref({\"_typename\":\"TCanvas\",\"fUniqueID\":0,\"fBits\":53673992,\"fLineColor\":1,\"fLineStyle\":1,\"fLineWidth\":1,\"fFillColor\":0,\"fFillStyle\":1001,\"fLeftMargin\":0.1,\"fRightMargin\":0.1,\"fBottomMargin\":0.1,\"fTopMargin\":0.1,\"fXfile\":2,\"fYfile\":2,\"fAfile\":1,\"fXstat\":0.99,\"fYstat\":0.99,\"fAstat\":2,\"fFrameFillColor\":0,\"fFrameLineColor\":1,\"fFrameFillStyle\":1001,\"fFrameLineStyle\":1,\"fFrameLineWidth\":1,\"fFrameBorderSize\":1,\"fFrameBorderMode\":0,\"fX1\":-18.7500013969839,\"fY1\":-74.1000055208805,\"fX2\":168.750001396984,\"fY2\":666.900005520881,\"fXtoAbsPixelk\":79.6000547445299,\"fXtoPixelk\":79.6000547445299,\"fXtoPixel\":4.24533327007293,\"fYtoAbsPixelk\":514.800046590614,\"fYtoPixelk\":514.800046590614,\"fYtoPixel\":-0.771929813058752,\"fUtoAbsPixelk\":5e-5,\"fUtoPixelk\":5e-5,\"fUtoPixel\":796,\"fVtoAbsPixelk\":572.00005,\"fVtoPixelk\":572,\"fVtoPixel\":-572,\"fAbsPixeltoXk\":-18.7500013969839,\"fPixeltoXk\":-18.7500013969839,\"fPixeltoX\":0.235552767329105,\"fAbsPixeltoYk\":666.900005520881,\"fPixeltoYk\":-74.1000055208805,\"fPixeltoY\":-1.29545456475832,\"fXlowNDC\":0,\"fYlowNDC\":0,\"fXUpNDC\":0,\"fYUpNDC\":0,\"fWNDC\":1,\"fHNDC\":1,\"fAbsXlowNDC\":0,\"fAbsYlowNDC\":0,\"fAbsWNDC\":1,\"fAbsHNDC\":1,\"fUxmin\":0,\"fUymin\":0,\"fUxmax\":150,\"fUymax\":592.8,\"fTheta\":30,\"fPhi\":30,\"fAspectRatio\":0,\"fNumber\":0,\"fTickx\":0,\"fTicky\":0,\"fLogx\":0,\"fLogy\":0,\"fLogz\":0,\"fPadPaint\":0,\"fCrosshair\":0,\"fCrosshairPos\":0,\"fBorderSize\":2,\"fBorderMode\":0,\"fModified\":false,\"fGridx\":false,\"fGridy\":false,\"fAbsCoord\":false,\"fEditable\":true,\"fFixedAspectRatio\":false,\"fPrimitives\":{\"_typename\":\"TList\",\"name\":\"TList\",\"arr\":[{\"_typename\":\"TFrame\",\"fUniqueID\":0,\"fBits\":50331656,\"fLineColor\":1,\"fLineStyle\":1,\"fLineWidth\":1,\"fFillColor\":0,\"fFillStyle\":1001,\"fX1\":0,\"fY1\":0,\"fX2\":150,\"fY2\":592.8,\"fBorderSize\":1,\"fBorderMode\":0},{\"_typename\":\"TH1F\",\"fUniqueID\":0,\"fBits\":50331656,\"fName\":\"InvariantMass_data_ee\",\"fTitle\":\"\",\"fLineColor\":1,\"fLineStyle\":1,\"fLineWidth\":1,\"fFillColor\":0,\"fFillStyle\":1001,\"fMarkerColor\":1,\"fMarkerStyle\":20,\"fMarkerSize\":1,\"fNcells\":152,\"fXaxis\":{\"_typename\":\"TAxis\",\"fUniqueID\":0,\"fBits\":50331648,\"fName\":\"xaxis\",\"fTitle\":\" Invariant mass [GeV]\",\"fNdivisions\":510,\"fAxisColor\":1,\"fLabelColor\":1,\"fLabelFont\":42,\"fLabelOffset\":0.005,\"fLabelSize\":0.035,\"fTickLength\":0.03,\"fTitleOffset\":1,\"fTitleSize\":0.035,\"fTitleColor\":1,\"fTitleFont\":42,\"fNbins\":150,\"fXmin\":0,\"fXmax\":150,\"fXbins\":[],\"fFirst\":0,\"fLast\":0,\"fBits2\":0,\"fTimeDisplay\":false,\"fTimeFormat\":\"\",\"fLabels\":null,\"fModLabs\":null},\"fYaxis\":{\"_typename\":\"TAxis\",\"fUniqueID\":0,\"fBits\":50331656,\"fName\":\"yaxis\",\"fTitle\":\" Number of events\",\"fNdivisions\":510,\"fAxisColor\":1,\"fLabelColor\":1,\"fLabelFont\":42,\"fLabelOffset\":0.005,\"fLabelSize\":0.035,\"fTickLength\":0.03,\"fTitleOffset\":0,\"fTitleSize\":0.035,\"fTitleColor\":1,\"fTitleFont\":42,\"fNbins\":1,\"fXmin\":0,\"fXmax\":1,\"fXbins\":[],\"fFirst\":0,\"fLast\":0,\"fBits2\":0,\"fTimeDisplay\":false,\"fTimeFormat\":\"\",\"fLabels\":null,\"fModLabs\":null},\"fZaxis\":{\"_typename\":\"TAxis\",\"fUniqueID\":0,\"fBits\":50331648,\"fName\":\"zaxis\",\"fTitle\":\"\",\"fNdivisions\":510,\"fAxisColor\":1,\"fLabelColor\":1,\"fLabelFont\":42,\"fLabelOffset\":0.005,\"fLabelSize\":0.035,\"fTickLength\":0.03,\"fTitleOffset\":1,\"fTitleSize\":0.035,\"fTitleColor\":1,\"fTitleFont\":42,\"fNbins\":1,\"fXmin\":0,\"fXmax\":1,\"fXbins\":[],\"fFirst\":0,\"fLast\":0,\"fBits2\":0,\"fTimeDisplay\":false,\"fTimeFormat\":\"\",\"fLabels\":null,\"fModLabs\":null},\"fBarOffset\":0,\"fBarWidth\":1000,\"fEntries\":4933,\"fTsumw\":4883,\"fTsumw2\":4883,\"fTsumwx\":406554.418172105,\"fTsumwx2\":35964167.5245646,\"fMaximum\":592.8,\"fMinimum\":0,\"fNormFactor\":0,\"fContour\":[],\"fSumw2\":[],\"fOption\":\"\",\"fFunctions\":{\"_typename\":\"TList\",\"name\":\"TList\",\"arr\":[{\"_typename\":\"TPaveStats\",\"fUniqueID\":0,\"fBits\":50331657,\"fLineColor\":1,\"fLineStyle\":1,\"fLineWidth\":1,\"fFillColor\":0,\"fFillStyle\":1001,\"fX1\":127.500003799796,\"fY1\":500.175007453189,\"fX2\":165.000004917383,\"fY2\":618.735006569848,\"fX1NDC\":0.780000016093254,\"fY1NDC\":0.775000005960464,\"fX2NDC\":0.980000019073486,\"fY2NDC\":0.935000002384186,\"fBorderSize\":1,\"fInit\":1,\"fShadowColor\":1,\"fCornerRadius\":0,\"fOption\":\"brNDC\",\"fName\":\"stats\",\"fTextAngle\":0,\"fTextSize\":0,\"fTextAlign\":12,\"fTextColor\":1,\"fTextFont\":42,\"fLabel\":\"\",\"fLongest\":21,\"fMargin\":0.05,\"fLines\":{\"_typename\":\"TList\",\"name\":\"TList\",\"arr\":[{\"_typename\":\"TLatex\",\"fUniqueID\":0,\"fBits\":50331648,\"fName\":\"\",\"fTitle\":\"InvariantMass_data_ee\",\"fTextAngle\":0,\"fTextSize\":0.0368,\"fTextAlign\":0,\"fTextColor\":0,\"fTextFont\":0,\"fX\":0,\"fY\":0,\"fLineColor\":1,\"fLineStyle\":1,\"fLineWidth\":2,\"fLimitFactorSize\":3,\"fOriginSize\":0.0368000008165836},{\"_typename\":\"TLatex\",\"fUniqueID\":0,\"fBits\":50331648,\"fName\":\"\",\"fTitle\":\"Entries = 4933   \",\"fTextAngle\":0,\"fTextSize\":0,\"fTextAlign\":0,\"fTextColor\":0,\"fTextFont\":0,\"fX\":0,\"fY\":0,\"fLineColor\":1,\"fLineStyle\":1,\"fLineWidth\":2,\"fLimitFactorSize\":3,\"fOriginSize\":0.04},{\"_typename\":\"TLatex\",\"fUniqueID\":0,\"fBits\":50331648,\"fName\":\"\",\"fTitle\":\"Mean  =  83.26\",\"fTextAngle\":0,\"fTextSize\":0,\"fTextAlign\":0,\"fTextColor\":0,\"fTextFont\":0,\"fX\":0,\"fY\":0,\"fLineColor\":1,\"fLineStyle\":1,\"fLineWidth\":2,\"fLimitFactorSize\":3,\"fOriginSize\":0.04},{\"_typename\":\"TLatex\",\"fUniqueID\":0,\"fBits\":50331648,\"fName\":\"\",\"fTitle\":\"Std Dev   =  20.81\",\"fTextAngle\":0,\"fTextSize\":0,\"fTextAlign\":0,\"fTextColor\":0,\"fTextFont\":0,\"fX\":0,\"fY\":0,\"fLineColor\":1,\"fLineStyle\":1,\"fLineWidth\":2,\"fLimitFactorSize\":3,\"fOriginSize\":0.04}],\"opt\":[\"\",\"\",\"\",\"\"]},\"fOptFit\":0,\"fOptStat\":1111,\"fFitFormat\":\"5.4g\",\"fStatFormat\":\"6.4g\",\"fParent\":{\"$ref\":3}},{\"_typename\":\"TF1\",\"fUniqueID\":0,\"fBits\":50332680,\"fName\":\"myBreitWigner\",\"fTitle\":\"[norm]*TMath::BreitWigner(x, [mean], [gamma])\",\"fLineColor\":2,\"fLineStyle\":1,\"fLineWidth\":2,\"fFillColor\":19,\"fFillStyle\":0,\"fMarkerColor\":1,\"fMarkerStyle\":1,\"fMarkerSize\":1,\"fXmin\":80,\"fXmax\":100,\"fNpar\":3,\"fNdim\":1,\"fNpx\":100,\"fType\":0,\"fNpfits\":20,\"fNDF\":17,\"fChisquare\":80.3960308375687,\"fMinimum\":-1111,\"fMaximum\":-1111,\"fParErrors\":[0.150658059831854,0.0616415506132724,80.1647380909839],\"fParMin\":[0,0,0],\"fParMax\":[0,0,0],\"fSave\":[40.0356278158685,41.5471102490926,43.1431605352502,44.8299837171441,46.6143405699141,48.5036052264779,50.5058293827836,52.6298138561043,54.8851883499301,57.2825003617744,59.8333142525501,62.5503215736389,65.4474638136716,68.5400687715516,71.8450017711611,75.3808328862108,79.1680212121974,83.2291169662332,87.588981758796,92.2750266870584,97.3174668415228,102.749589251985,108.608029030285,114.933045234584,121.768783436643,129.16350566734,137.169759765985,145.844448440159,155.248742679959,165.447763566747,176.509929941582,188.505835987702,201.506482223488,215.580636627703,230.791052937855,247.18922801704,264.808353624922,283.654133710919,303.693233017532,324.839347052957,346.93729852266,369.746228328706,392.923881617869,416.01512258207,438.448917965918,459.548667336477,478.560299143416,494.700365866446,507.222213490453,515.492775011414,519.067324489103,517.746971676728,511.605655344834,500.980017368654,486.424668512508,468.643522492366,448.412127305472,426.505310148905,403.640171362994,380.438813884116,357.410263843577,334.947929663747,313.337755780399,292.772442991412,273.368065559898,255.180576458353,238.22073385115,222.466770715441,207.874653230823,194.386078149953,181.934506826041,170.449580414906,159.860250118128,150.096917522036,141.092831243683,132.784937364045,125.114337470096,118.026471396843,111.471112111411,105.402236941805,99.7778215352108,94.5595895060411,89.7127407650019,85.205674211617,81.0097151779587,77.0988542218152,73.449501190435,70.040256613269,66.8517012101671,63.8662034542803,61.0677445842327,58.4417601285653,55.9749968221459,53.6553837123647,51.4719162389776,49.4145521016041,47.4741177863474,45.6422246961263,43.9111939100607,42.2739886802603,40.7241538560962,80,100],\"fNormalized\":false,\"fNormIntegral\":0,\"fFormula\":{\"_typename\":\"TFormula\",\"fUniqueID\":0,\"fBits\":50332672,\"fName\":\"myBreitWigner\",\"fTitle\":\"[norm]*TMath::BreitWigner(x, [mean], [gamma])\",\"fClingParameters\":[5.80783707609358,90.0462236503492,4736.61424737679],\"fAllParametersSetted\":true,\"fParams\":[{\"$pair\":\"pair<TString,int,TFormulaParamOrder>\",\"first\":\"gamma\",\"second\":0},{\"$pair\":\"pair<TString,int,TFormulaParamOrder>\",\"first\":\"mean\",\"second\":1},{\"$pair\":\"pair<TString,int,TFormulaParamOrder>\",\"first\":\"norm\",\"second\":2}],\"fFormula\":\"[norm]*TMath::BreitWigner(x,[mean],[gamma])\",\"fNdim\":1,\"fLinearParts\":[],\"fVectorized\":false},\"fParams\":null,\"fComposition_ptr\":null}],\"opt\":[\"brNDC\",\"\"]},\"fBufferSize\":0,\"fBuffer\":[],\"fBinStatErrOpt\":0,\"fStatOverflows\":2,\"fArray\":[0,0,0,3,7,11,8,9,14,12,43,22,13,13,7,4,6,11,7,8,11,4,4,2,6,2,7,3,10,9,7,6,6,9,7,12,11,9,11,9,9,9,6,4,8,7,4,10,11,8,9,3,5,5,6,11,10,15,3,10,7,9,18,8,12,8,13,12,12,10,13,12,10,11,15,15,22,22,27,34,31,36,71,83,81,121,171,234,281,371,486,494,429,361,238,154,95,59,58,28,34,14,11,13,11,14,4,10,7,14,4,2,6,6,5,5,1,6,2,5,1,1,0,1,2,1,2,2,2,0,3,3,1,2,0,1,1,2,1,0,4,1,1,3,0,1,2,2,1,0,0,50]}],\"opt\":[\"\",\"E\"]},\"fExecs\":null,\"fName\":\"Invariant mass ee\",\"fTitle\":\"Invariant mass ee\",\"fNumPaletteColor\":0,\"fNextPaletteColor\":0,\"fDISPLAY\":\"$DISPLAY\",\"fDoubleBuffer\":0,\"fRetained\":true,\"fXsizeUser\":0,\"fYsizeUser\":0,\"fXsizeReal\":20,\"fYsizeReal\":15,\"fWindowTopX\":0,\"fWindowTopY\":0,\"fWindowWidth\":0,\"fWindowHeight\":0,\"fCw\":796,\"fCh\":572,\"fCatt\":{\"_typename\":\"TAttCanvas\",\"fXBetween\":2,\"fYBetween\":2,\"fTitleFromTop\":1.2,\"fXdate\":0.2,\"fYdate\":0.3,\"fAdate\":1},\"kMoveOpaque\":true,\"kResizeOpaque\":true,\"fHighLightColor\":2,\"fBatch\":true,\"kShowEventStatus\":false,\"kAutoExec\":true,\"kMenuBar\":true});\n",
       "       Core.draw(\"root_plot_19\", obj, \"\");\n",
       "     }\n",
       " );\n",
       "</script>\n"
      ],
      "text/plain": [
       "<IPython.core.display.HTML object>"
      ]
     },
     "metadata": {},
     "output_type": "display_data"
    }
   ],
   "source": [
    "# magic to get interactive plots\n",
    "%jsroot on\n",
    "\n",
    "# let's look at the ee case first\n",
    "eeDataCanvas = ROOT.TCanvas(\"Invariant mass ee\", \"Invariant mass ee\", 800, 600)\n",
    "\n",
    "massHistos[\"data_ee\"].SetMarkerStyle(20)\n",
    "massHistos[\"data_ee\"].SetLineColor(1)\n",
    "massHistos[\"data_ee\"].Draw() # draw once so that the histogram has axes\n",
    "# then set the y-axis range\n",
    "yMax = 1.2*massHistos[\"data_ee\"].GetBinContent(massHistos[\"data_ee\"].GetMaximumBin())\n",
    "massHistos[\"data_ee\"].GetYaxis().SetRangeUser(0, yMax)\n",
    "massHistos[\"data_ee\"].Draw(\"E\") # \"E\" draws data points with simple error bars\n",
    "\n",
    "eeDataCanvas.Draw()"
   ]
  },
  {
   "cell_type": "code",
   "execution_count": 34,
   "metadata": {},
   "outputs": [
    {
     "name": "stdout",
     "output_type": "stream",
     "text": [
      "\n",
      "*** Chi^2 sum = 80.4, N_DoF = 17, ratio = 4.7\n",
      " FCN=34.44 FROM MIGRAD    STATUS=CONVERGED     179 CALLS         180 TOTAL\n",
      "                     EDM=2.10332e-09    STRATEGY= 1      ERROR MATRIX ACCURATE \n",
      "  EXT PARAMETER                                   STEP         FIRST   \n",
      "  NO.   NAME      VALUE            ERROR          SIZE      DERIVATIVE \n",
      "   1  gamma        5.80784e+00   1.50658e-01   5.82237e-04  -2.81861e-04\n",
      "   2  mean         9.00462e+01   6.16416e-02   2.51220e-04  -8.52709e-05\n",
      "   3  norm         4.73661e+03   8.01647e+01   3.10167e-01   4.40262e-07\n",
      "                               ERR DEF= 0.5\n"
     ]
    },
    {
     "data": {
      "text/html": [
       "\n",
       "<div id=\"root_plot_20\"\n",
       "     style=\"width: 796px; height: 572px\">\n",
       "</div>\n",
       "\n",
       "<script>\n",
       " requirejs.config({\n",
       "     paths: {\n",
       "       'JSRootCore' : '/static/jsroot//scripts/JSRootCore',\n",
       "     }\n",
       "   });\n",
       " require(['JSRootCore'],\n",
       "     function(Core) {\n",
       "       var obj = Core.JSONR_unref({\"_typename\":\"TCanvas\",\"fUniqueID\":0,\"fBits\":53673992,\"fLineColor\":1,\"fLineStyle\":1,\"fLineWidth\":1,\"fFillColor\":0,\"fFillStyle\":1001,\"fLeftMargin\":0.1,\"fRightMargin\":0.1,\"fBottomMargin\":0.1,\"fTopMargin\":0.1,\"fXfile\":2,\"fYfile\":2,\"fAfile\":1,\"fXstat\":0.99,\"fYstat\":0.99,\"fAstat\":2,\"fFrameFillColor\":0,\"fFrameLineColor\":1,\"fFrameFillStyle\":1001,\"fFrameLineStyle\":1,\"fFrameLineWidth\":1,\"fFrameBorderSize\":1,\"fFrameBorderMode\":0,\"fX1\":-18.7500013969839,\"fY1\":-74.1000055208805,\"fX2\":168.750001396984,\"fY2\":666.900005520881,\"fXtoAbsPixelk\":79.6000547445299,\"fXtoPixelk\":79.6000547445299,\"fXtoPixel\":4.24533327007293,\"fYtoAbsPixelk\":514.800046590614,\"fYtoPixelk\":514.800046590614,\"fYtoPixel\":-0.771929813058752,\"fUtoAbsPixelk\":5e-5,\"fUtoPixelk\":5e-5,\"fUtoPixel\":796,\"fVtoAbsPixelk\":572.00005,\"fVtoPixelk\":572,\"fVtoPixel\":-572,\"fAbsPixeltoXk\":-18.7500013969839,\"fPixeltoXk\":-18.7500013969839,\"fPixeltoX\":0.235552767329105,\"fAbsPixeltoYk\":666.900005520881,\"fPixeltoYk\":-74.1000055208805,\"fPixeltoY\":-1.29545456475832,\"fXlowNDC\":0,\"fYlowNDC\":0,\"fXUpNDC\":0,\"fYUpNDC\":0,\"fWNDC\":1,\"fHNDC\":1,\"fAbsXlowNDC\":0,\"fAbsYlowNDC\":0,\"fAbsWNDC\":1,\"fAbsHNDC\":1,\"fUxmin\":0,\"fUymin\":0,\"fUxmax\":150,\"fUymax\":592.8,\"fTheta\":30,\"fPhi\":30,\"fAspectRatio\":0,\"fNumber\":0,\"fTickx\":0,\"fTicky\":0,\"fLogx\":0,\"fLogy\":0,\"fLogz\":0,\"fPadPaint\":0,\"fCrosshair\":0,\"fCrosshairPos\":0,\"fBorderSize\":2,\"fBorderMode\":0,\"fModified\":false,\"fGridx\":false,\"fGridy\":false,\"fAbsCoord\":false,\"fEditable\":true,\"fFixedAspectRatio\":false,\"fPrimitives\":{\"_typename\":\"TList\",\"name\":\"TList\",\"arr\":[{\"_typename\":\"TFrame\",\"fUniqueID\":0,\"fBits\":50331656,\"fLineColor\":1,\"fLineStyle\":1,\"fLineWidth\":1,\"fFillColor\":0,\"fFillStyle\":1001,\"fX1\":0,\"fY1\":0,\"fX2\":150,\"fY2\":592.8,\"fBorderSize\":1,\"fBorderMode\":0},{\"_typename\":\"TH1F\",\"fUniqueID\":0,\"fBits\":50331656,\"fName\":\"InvariantMass_data_ee\",\"fTitle\":\"\",\"fLineColor\":1,\"fLineStyle\":1,\"fLineWidth\":1,\"fFillColor\":0,\"fFillStyle\":1001,\"fMarkerColor\":1,\"fMarkerStyle\":20,\"fMarkerSize\":1,\"fNcells\":152,\"fXaxis\":{\"_typename\":\"TAxis\",\"fUniqueID\":0,\"fBits\":50331648,\"fName\":\"xaxis\",\"fTitle\":\" Invariant mass [GeV]\",\"fNdivisions\":510,\"fAxisColor\":1,\"fLabelColor\":1,\"fLabelFont\":42,\"fLabelOffset\":0.005,\"fLabelSize\":0.035,\"fTickLength\":0.03,\"fTitleOffset\":1,\"fTitleSize\":0.035,\"fTitleColor\":1,\"fTitleFont\":42,\"fNbins\":150,\"fXmin\":0,\"fXmax\":150,\"fXbins\":[],\"fFirst\":0,\"fLast\":0,\"fBits2\":0,\"fTimeDisplay\":false,\"fTimeFormat\":\"\",\"fLabels\":null,\"fModLabs\":null},\"fYaxis\":{\"_typename\":\"TAxis\",\"fUniqueID\":0,\"fBits\":50331656,\"fName\":\"yaxis\",\"fTitle\":\" Number of events\",\"fNdivisions\":510,\"fAxisColor\":1,\"fLabelColor\":1,\"fLabelFont\":42,\"fLabelOffset\":0.005,\"fLabelSize\":0.035,\"fTickLength\":0.03,\"fTitleOffset\":0,\"fTitleSize\":0.035,\"fTitleColor\":1,\"fTitleFont\":42,\"fNbins\":1,\"fXmin\":0,\"fXmax\":1,\"fXbins\":[],\"fFirst\":0,\"fLast\":0,\"fBits2\":0,\"fTimeDisplay\":false,\"fTimeFormat\":\"\",\"fLabels\":null,\"fModLabs\":null},\"fZaxis\":{\"_typename\":\"TAxis\",\"fUniqueID\":0,\"fBits\":50331648,\"fName\":\"zaxis\",\"fTitle\":\"\",\"fNdivisions\":510,\"fAxisColor\":1,\"fLabelColor\":1,\"fLabelFont\":42,\"fLabelOffset\":0.005,\"fLabelSize\":0.035,\"fTickLength\":0.03,\"fTitleOffset\":1,\"fTitleSize\":0.035,\"fTitleColor\":1,\"fTitleFont\":42,\"fNbins\":1,\"fXmin\":0,\"fXmax\":1,\"fXbins\":[],\"fFirst\":0,\"fLast\":0,\"fBits2\":0,\"fTimeDisplay\":false,\"fTimeFormat\":\"\",\"fLabels\":null,\"fModLabs\":null},\"fBarOffset\":0,\"fBarWidth\":1000,\"fEntries\":4933,\"fTsumw\":4883,\"fTsumw2\":4883,\"fTsumwx\":406554.418172105,\"fTsumwx2\":35964167.5245646,\"fMaximum\":592.8,\"fMinimum\":0,\"fNormFactor\":0,\"fContour\":[],\"fSumw2\":[],\"fOption\":\"\",\"fFunctions\":{\"_typename\":\"TList\",\"name\":\"TList\",\"arr\":[{\"_typename\":\"TPaveStats\",\"fUniqueID\":0,\"fBits\":50331657,\"fLineColor\":1,\"fLineStyle\":1,\"fLineWidth\":1,\"fFillColor\":0,\"fFillStyle\":1001,\"fX1\":127.500003799796,\"fY1\":500.175007453189,\"fX2\":165.000004917383,\"fY2\":618.735006569848,\"fX1NDC\":0.780000016093254,\"fY1NDC\":0.775000005960464,\"fX2NDC\":0.980000019073486,\"fY2NDC\":0.935000002384186,\"fBorderSize\":1,\"fInit\":1,\"fShadowColor\":1,\"fCornerRadius\":0,\"fOption\":\"brNDC\",\"fName\":\"stats\",\"fTextAngle\":0,\"fTextSize\":0,\"fTextAlign\":12,\"fTextColor\":1,\"fTextFont\":42,\"fLabel\":\"\",\"fLongest\":21,\"fMargin\":0.05,\"fLines\":{\"_typename\":\"TList\",\"name\":\"TList\",\"arr\":[{\"_typename\":\"TLatex\",\"fUniqueID\":0,\"fBits\":50331648,\"fName\":\"\",\"fTitle\":\"InvariantMass_data_ee\",\"fTextAngle\":0,\"fTextSize\":0.0368,\"fTextAlign\":0,\"fTextColor\":0,\"fTextFont\":0,\"fX\":0,\"fY\":0,\"fLineColor\":1,\"fLineStyle\":1,\"fLineWidth\":2,\"fLimitFactorSize\":3,\"fOriginSize\":0.0368000008165836},{\"_typename\":\"TLatex\",\"fUniqueID\":0,\"fBits\":50331648,\"fName\":\"\",\"fTitle\":\"Entries = 4933   \",\"fTextAngle\":0,\"fTextSize\":0,\"fTextAlign\":0,\"fTextColor\":0,\"fTextFont\":0,\"fX\":0,\"fY\":0,\"fLineColor\":1,\"fLineStyle\":1,\"fLineWidth\":2,\"fLimitFactorSize\":3,\"fOriginSize\":0.04},{\"_typename\":\"TLatex\",\"fUniqueID\":0,\"fBits\":50331648,\"fName\":\"\",\"fTitle\":\"Mean  =  83.26\",\"fTextAngle\":0,\"fTextSize\":0,\"fTextAlign\":0,\"fTextColor\":0,\"fTextFont\":0,\"fX\":0,\"fY\":0,\"fLineColor\":1,\"fLineStyle\":1,\"fLineWidth\":2,\"fLimitFactorSize\":3,\"fOriginSize\":0.04},{\"_typename\":\"TLatex\",\"fUniqueID\":0,\"fBits\":50331648,\"fName\":\"\",\"fTitle\":\"Std Dev   =  20.81\",\"fTextAngle\":0,\"fTextSize\":0,\"fTextAlign\":0,\"fTextColor\":0,\"fTextFont\":0,\"fX\":0,\"fY\":0,\"fLineColor\":1,\"fLineStyle\":1,\"fLineWidth\":2,\"fLimitFactorSize\":3,\"fOriginSize\":0.04}],\"opt\":[\"\",\"\",\"\",\"\"]},\"fOptFit\":0,\"fOptStat\":1111,\"fFitFormat\":\"5.4g\",\"fStatFormat\":\"6.4g\",\"fParent\":{\"$ref\":3}},{\"_typename\":\"TF1\",\"fUniqueID\":0,\"fBits\":50332680,\"fName\":\"myBreitWigner\",\"fTitle\":\"[norm]*TMath::BreitWigner(x, [mean], [gamma])\",\"fLineColor\":2,\"fLineStyle\":1,\"fLineWidth\":2,\"fFillColor\":19,\"fFillStyle\":0,\"fMarkerColor\":1,\"fMarkerStyle\":1,\"fMarkerSize\":1,\"fXmin\":80,\"fXmax\":100,\"fNpar\":3,\"fNdim\":1,\"fNpx\":100,\"fType\":0,\"fNpfits\":20,\"fNDF\":17,\"fChisquare\":80.3960308375687,\"fMinimum\":-1111,\"fMaximum\":-1111,\"fParErrors\":[0.150658059831854,0.0616415506132724,80.1647380909839],\"fParMin\":[0,0,0],\"fParMax\":[0,0,0],\"fSave\":[40.0356278158685,41.5471102490926,43.1431605352502,44.8299837171441,46.6143405699141,48.5036052264779,50.5058293827836,52.6298138561043,54.8851883499301,57.2825003617744,59.8333142525501,62.5503215736389,65.4474638136716,68.5400687715516,71.8450017711611,75.3808328862108,79.1680212121974,83.2291169662332,87.588981758796,92.2750266870584,97.3174668415228,102.749589251985,108.608029030285,114.933045234584,121.768783436643,129.16350566734,137.169759765985,145.844448440159,155.248742679959,165.447763566747,176.509929941582,188.505835987702,201.506482223488,215.580636627703,230.791052937855,247.18922801704,264.808353624922,283.654133710919,303.693233017532,324.839347052957,346.93729852266,369.746228328706,392.923881617869,416.01512258207,438.448917965918,459.548667336477,478.560299143416,494.700365866446,507.222213490453,515.492775011414,519.067324489103,517.746971676728,511.605655344834,500.980017368654,486.424668512508,468.643522492366,448.412127305472,426.505310148905,403.640171362994,380.438813884116,357.410263843577,334.947929663747,313.337755780399,292.772442991412,273.368065559898,255.180576458353,238.22073385115,222.466770715441,207.874653230823,194.386078149953,181.934506826041,170.449580414906,159.860250118128,150.096917522036,141.092831243683,132.784937364045,125.114337470096,118.026471396843,111.471112111411,105.402236941805,99.7778215352108,94.5595895060411,89.7127407650019,85.205674211617,81.0097151779587,77.0988542218152,73.449501190435,70.040256613269,66.8517012101671,63.8662034542803,61.0677445842327,58.4417601285653,55.9749968221459,53.6553837123647,51.4719162389776,49.4145521016041,47.4741177863474,45.6422246961263,43.9111939100607,42.2739886802603,40.7241538560962,80,100],\"fNormalized\":false,\"fNormIntegral\":0,\"fFormula\":{\"_typename\":\"TFormula\",\"fUniqueID\":0,\"fBits\":50332672,\"fName\":\"myBreitWigner\",\"fTitle\":\"[norm]*TMath::BreitWigner(x, [mean], [gamma])\",\"fClingParameters\":[5.80783707609358,90.0462236503492,4736.61424737679],\"fAllParametersSetted\":true,\"fParams\":[{\"$pair\":\"pair<TString,int,TFormulaParamOrder>\",\"first\":\"gamma\",\"second\":0},{\"$pair\":\"pair<TString,int,TFormulaParamOrder>\",\"first\":\"mean\",\"second\":1},{\"$pair\":\"pair<TString,int,TFormulaParamOrder>\",\"first\":\"norm\",\"second\":2}],\"fFormula\":\"[norm]*TMath::BreitWigner(x,[mean],[gamma])\",\"fNdim\":1,\"fLinearParts\":[],\"fVectorized\":false},\"fParams\":null,\"fComposition_ptr\":null}],\"opt\":[\"brNDC\",\"\"]},\"fBufferSize\":0,\"fBuffer\":[],\"fBinStatErrOpt\":0,\"fStatOverflows\":2,\"fArray\":[0,0,0,3,7,11,8,9,14,12,43,22,13,13,7,4,6,11,7,8,11,4,4,2,6,2,7,3,10,9,7,6,6,9,7,12,11,9,11,9,9,9,6,4,8,7,4,10,11,8,9,3,5,5,6,11,10,15,3,10,7,9,18,8,12,8,13,12,12,10,13,12,10,11,15,15,22,22,27,34,31,36,71,83,81,121,171,234,281,371,486,494,429,361,238,154,95,59,58,28,34,14,11,13,11,14,4,10,7,14,4,2,6,6,5,5,1,6,2,5,1,1,0,1,2,1,2,2,2,0,3,3,1,2,0,1,1,2,1,0,4,1,1,3,0,1,2,2,1,0,0,50]}],\"opt\":[\"\",\"E\"]},\"fExecs\":null,\"fName\":\"Invariant mass ee\",\"fTitle\":\"Invariant mass ee\",\"fNumPaletteColor\":0,\"fNextPaletteColor\":0,\"fDISPLAY\":\"$DISPLAY\",\"fDoubleBuffer\":0,\"fRetained\":true,\"fXsizeUser\":0,\"fYsizeUser\":0,\"fXsizeReal\":20,\"fYsizeReal\":15,\"fWindowTopX\":0,\"fWindowTopY\":0,\"fWindowWidth\":0,\"fWindowHeight\":0,\"fCw\":796,\"fCh\":572,\"fCatt\":{\"_typename\":\"TAttCanvas\",\"fXBetween\":2,\"fYBetween\":2,\"fTitleFromTop\":1.2,\"fXdate\":0.2,\"fYdate\":0.3,\"fAdate\":1},\"kMoveOpaque\":true,\"kResizeOpaque\":true,\"fHighLightColor\":2,\"fBatch\":true,\"kShowEventStatus\":false,\"kAutoExec\":true,\"kMenuBar\":true});\n",
       "       Core.draw(\"root_plot_20\", obj, \"\");\n",
       "     }\n",
       " );\n",
       "</script>\n"
      ],
      "text/plain": [
       "<IPython.core.display.HTML object>"
      ]
     },
     "metadata": {},
     "output_type": "display_data"
    }
   ],
   "source": [
    "# now let's try to fit a Breit-Wigner curve to the measured invariant mass distribution\n",
    "\n",
    "# let's define a B-W function with a normalization parameter, and set reasonable starting values\n",
    "bw = ROOT.TF1(\"myBreitWigner\", \"[norm]*TMath::BreitWigner(x, [mean], [gamma])\", 80, 100)\n",
    "bw.SetParameter(\"norm\", 100)\n",
    "bw.SetParameter(\"mean\", 90)\n",
    "bw.SetParameter(\"gamma\", 3)\n",
    "\n",
    "# do the fit\n",
    "fitResult = massHistos[\"data_ee\"].Fit(bw, \"L S\", \"\", 80, 100)\n",
    "print(\"\\n*** Chi^2 sum = {:.1f}, N_DoF = {}, ratio = {:.1f}\".format(fitResult.Chi2(),\n",
    "                                                                    fitResult.Ndf(),\n",
    "                                                                    fitResult.Chi2()/fitResult.Ndf()))\n",
    "\n",
    "# draw the canvas again to see the fit\n",
    "eeDataCanvas.Draw()"
   ]
  },
  {
   "cell_type": "markdown",
   "metadata": {},
   "source": [
    "### How good is the fit? Can you improve the it?\n",
    "Does the measured mass come out near the true value? What does the $\\chi^2/N_{DoF}$ say about the fit quality? \n",
    "\n",
    "**If you want to get better at the craft of fitting:**\n",
    "* What can you do to improve the fit? \n",
    "* Could adding a (small) additional function that describes the background help? \n",
    "* Could something be done to account for the effects from imperfect detector/measurements?"
   ]
  },
  {
   "cell_type": "code",
   "execution_count": 30,
   "metadata": {},
   "outputs": [
    {
     "data": {
      "text/html": [
       "\n",
       "<div id=\"root_plot_18\"\n",
       "     style=\"width: 796px; height: 572px\">\n",
       "</div>\n",
       "\n",
       "<script>\n",
       " requirejs.config({\n",
       "     paths: {\n",
       "       'JSRootCore' : '/static/jsroot//scripts/JSRootCore',\n",
       "     }\n",
       "   });\n",
       " require(['JSRootCore'],\n",
       "     function(Core) {\n",
       "       var obj = Core.JSONR_unref({\"_typename\":\"TCanvas\",\"fUniqueID\":0,\"fBits\":53673992,\"fLineColor\":1,\"fLineStyle\":1,\"fLineWidth\":1,\"fFillColor\":0,\"fFillStyle\":1001,\"fLeftMargin\":0.1,\"fRightMargin\":0.1,\"fBottomMargin\":0.1,\"fTopMargin\":0.1,\"fXfile\":2,\"fYfile\":2,\"fAfile\":1,\"fXstat\":0.99,\"fYstat\":0.99,\"fAstat\":2,\"fFrameFillColor\":0,\"fFrameLineColor\":1,\"fFrameFillStyle\":1001,\"fFrameLineStyle\":1,\"fFrameLineWidth\":1,\"fFrameBorderSize\":1,\"fFrameBorderMode\":0,\"fX1\":-18.7500013969839,\"fY1\":-74.1000055208805,\"fX2\":168.750001396984,\"fY2\":666.900005520881,\"fXtoAbsPixelk\":79.6000547445299,\"fXtoPixelk\":79.6000547445299,\"fXtoPixel\":4.24533327007293,\"fYtoAbsPixelk\":514.800046590614,\"fYtoPixelk\":514.800046590614,\"fYtoPixel\":-0.771929813058752,\"fUtoAbsPixelk\":5e-5,\"fUtoPixelk\":5e-5,\"fUtoPixel\":796,\"fVtoAbsPixelk\":572.00005,\"fVtoPixelk\":572,\"fVtoPixel\":-572,\"fAbsPixeltoXk\":-18.7500013969839,\"fPixeltoXk\":-18.7500013969839,\"fPixeltoX\":0.235552767329105,\"fAbsPixeltoYk\":666.900005520881,\"fPixeltoYk\":-74.1000055208805,\"fPixeltoY\":-1.29545456475832,\"fXlowNDC\":0,\"fYlowNDC\":0,\"fXUpNDC\":0,\"fYUpNDC\":0,\"fWNDC\":1,\"fHNDC\":1,\"fAbsXlowNDC\":0,\"fAbsYlowNDC\":0,\"fAbsWNDC\":1,\"fAbsHNDC\":1,\"fUxmin\":0,\"fUymin\":0,\"fUxmax\":150,\"fUymax\":592.8,\"fTheta\":30,\"fPhi\":30,\"fAspectRatio\":0,\"fNumber\":0,\"fTickx\":0,\"fTicky\":0,\"fLogx\":0,\"fLogy\":0,\"fLogz\":0,\"fPadPaint\":0,\"fCrosshair\":0,\"fCrosshairPos\":0,\"fBorderSize\":2,\"fBorderMode\":0,\"fModified\":false,\"fGridx\":false,\"fGridy\":false,\"fAbsCoord\":false,\"fEditable\":true,\"fFixedAspectRatio\":false,\"fPrimitives\":{\"_typename\":\"TList\",\"name\":\"TList\",\"arr\":[{\"_typename\":\"TFrame\",\"fUniqueID\":0,\"fBits\":50331656,\"fLineColor\":1,\"fLineStyle\":1,\"fLineWidth\":1,\"fFillColor\":0,\"fFillStyle\":1001,\"fX1\":0,\"fY1\":0,\"fX2\":150,\"fY2\":592.8,\"fBorderSize\":1,\"fBorderMode\":0},{\"_typename\":\"TH1F\",\"fUniqueID\":0,\"fBits\":50331656,\"fName\":\"InvariantMass_data_ee\",\"fTitle\":\"\",\"fLineColor\":1,\"fLineStyle\":1,\"fLineWidth\":1,\"fFillColor\":0,\"fFillStyle\":1001,\"fMarkerColor\":1,\"fMarkerStyle\":20,\"fMarkerSize\":1,\"fNcells\":152,\"fXaxis\":{\"_typename\":\"TAxis\",\"fUniqueID\":0,\"fBits\":50331648,\"fName\":\"xaxis\",\"fTitle\":\" Invariant mass [GeV]\",\"fNdivisions\":510,\"fAxisColor\":1,\"fLabelColor\":1,\"fLabelFont\":42,\"fLabelOffset\":0.005,\"fLabelSize\":0.035,\"fTickLength\":0.03,\"fTitleOffset\":1,\"fTitleSize\":0.035,\"fTitleColor\":1,\"fTitleFont\":42,\"fNbins\":150,\"fXmin\":0,\"fXmax\":150,\"fXbins\":[],\"fFirst\":0,\"fLast\":0,\"fBits2\":0,\"fTimeDisplay\":false,\"fTimeFormat\":\"\",\"fLabels\":null,\"fModLabs\":null},\"fYaxis\":{\"_typename\":\"TAxis\",\"fUniqueID\":0,\"fBits\":50331656,\"fName\":\"yaxis\",\"fTitle\":\" Number of events\",\"fNdivisions\":510,\"fAxisColor\":1,\"fLabelColor\":1,\"fLabelFont\":42,\"fLabelOffset\":0.005,\"fLabelSize\":0.035,\"fTickLength\":0.03,\"fTitleOffset\":0,\"fTitleSize\":0.035,\"fTitleColor\":1,\"fTitleFont\":42,\"fNbins\":1,\"fXmin\":0,\"fXmax\":1,\"fXbins\":[],\"fFirst\":0,\"fLast\":0,\"fBits2\":0,\"fTimeDisplay\":false,\"fTimeFormat\":\"\",\"fLabels\":null,\"fModLabs\":null},\"fZaxis\":{\"_typename\":\"TAxis\",\"fUniqueID\":0,\"fBits\":50331648,\"fName\":\"zaxis\",\"fTitle\":\"\",\"fNdivisions\":510,\"fAxisColor\":1,\"fLabelColor\":1,\"fLabelFont\":42,\"fLabelOffset\":0.005,\"fLabelSize\":0.035,\"fTickLength\":0.03,\"fTitleOffset\":1,\"fTitleSize\":0.035,\"fTitleColor\":1,\"fTitleFont\":42,\"fNbins\":1,\"fXmin\":0,\"fXmax\":1,\"fXbins\":[],\"fFirst\":0,\"fLast\":0,\"fBits2\":0,\"fTimeDisplay\":false,\"fTimeFormat\":\"\",\"fLabels\":null,\"fModLabs\":null},\"fBarOffset\":0,\"fBarWidth\":1000,\"fEntries\":4933,\"fTsumw\":4883,\"fTsumw2\":4883,\"fTsumwx\":406554.418172105,\"fTsumwx2\":35964167.5245646,\"fMaximum\":592.8,\"fMinimum\":0,\"fNormFactor\":0,\"fContour\":[],\"fSumw2\":[],\"fOption\":\"\",\"fFunctions\":{\"_typename\":\"TList\",\"name\":\"TList\",\"arr\":[{\"_typename\":\"TPaveStats\",\"fUniqueID\":0,\"fBits\":50331657,\"fLineColor\":1,\"fLineStyle\":1,\"fLineWidth\":1,\"fFillColor\":0,\"fFillStyle\":1001,\"fX1\":127.500003799796,\"fY1\":500.175007453189,\"fX2\":165.000004917383,\"fY2\":618.735006569848,\"fX1NDC\":0.780000016093254,\"fY1NDC\":0.775000005960464,\"fX2NDC\":0.980000019073486,\"fY2NDC\":0.935000002384186,\"fBorderSize\":1,\"fInit\":1,\"fShadowColor\":1,\"fCornerRadius\":0,\"fOption\":\"brNDC\",\"fName\":\"stats\",\"fTextAngle\":0,\"fTextSize\":0,\"fTextAlign\":12,\"fTextColor\":1,\"fTextFont\":42,\"fLabel\":\"\",\"fLongest\":21,\"fMargin\":0.05,\"fLines\":{\"_typename\":\"TList\",\"name\":\"TList\",\"arr\":[{\"_typename\":\"TLatex\",\"fUniqueID\":0,\"fBits\":50331648,\"fName\":\"\",\"fTitle\":\"InvariantMass_data_ee\",\"fTextAngle\":0,\"fTextSize\":0.0368,\"fTextAlign\":0,\"fTextColor\":0,\"fTextFont\":0,\"fX\":0,\"fY\":0,\"fLineColor\":1,\"fLineStyle\":1,\"fLineWidth\":2,\"fLimitFactorSize\":3,\"fOriginSize\":0.0368000008165836},{\"_typename\":\"TLatex\",\"fUniqueID\":0,\"fBits\":50331648,\"fName\":\"\",\"fTitle\":\"Entries = 4933   \",\"fTextAngle\":0,\"fTextSize\":0,\"fTextAlign\":0,\"fTextColor\":0,\"fTextFont\":0,\"fX\":0,\"fY\":0,\"fLineColor\":1,\"fLineStyle\":1,\"fLineWidth\":2,\"fLimitFactorSize\":3,\"fOriginSize\":0.04},{\"_typename\":\"TLatex\",\"fUniqueID\":0,\"fBits\":50331648,\"fName\":\"\",\"fTitle\":\"Mean  =  83.26\",\"fTextAngle\":0,\"fTextSize\":0,\"fTextAlign\":0,\"fTextColor\":0,\"fTextFont\":0,\"fX\":0,\"fY\":0,\"fLineColor\":1,\"fLineStyle\":1,\"fLineWidth\":2,\"fLimitFactorSize\":3,\"fOriginSize\":0.04},{\"_typename\":\"TLatex\",\"fUniqueID\":0,\"fBits\":50331648,\"fName\":\"\",\"fTitle\":\"Std Dev   =  20.81\",\"fTextAngle\":0,\"fTextSize\":0,\"fTextAlign\":0,\"fTextColor\":0,\"fTextFont\":0,\"fX\":0,\"fY\":0,\"fLineColor\":1,\"fLineStyle\":1,\"fLineWidth\":2,\"fLimitFactorSize\":3,\"fOriginSize\":0.04}],\"opt\":[\"\",\"\",\"\",\"\"]},\"fOptFit\":0,\"fOptStat\":1111,\"fFitFormat\":\"5.4g\",\"fStatFormat\":\"6.4g\",\"fParent\":{\"$ref\":3}},{\"_typename\":\"TF1\",\"fUniqueID\":0,\"fBits\":50332680,\"fName\":\"myBreitWigner\",\"fTitle\":\"[norm]*TMath::BreitWigner(x, [mean], [gamma])\",\"fLineColor\":2,\"fLineStyle\":1,\"fLineWidth\":2,\"fFillColor\":19,\"fFillStyle\":0,\"fMarkerColor\":1,\"fMarkerStyle\":1,\"fMarkerSize\":1,\"fXmin\":80,\"fXmax\":100,\"fNpar\":3,\"fNdim\":1,\"fNpx\":100,\"fType\":0,\"fNpfits\":20,\"fNDF\":17,\"fChisquare\":80.3960308375687,\"fMinimum\":-1111,\"fMaximum\":-1111,\"fParErrors\":[0.150658059831854,0.0616415506132724,80.1647380909839],\"fParMin\":[0,0,0],\"fParMax\":[0,0,0],\"fSave\":[40.0356278158685,41.5471102490926,43.1431605352502,44.8299837171441,46.6143405699141,48.5036052264779,50.5058293827836,52.6298138561043,54.8851883499301,57.2825003617744,59.8333142525501,62.5503215736389,65.4474638136716,68.5400687715516,71.8450017711611,75.3808328862108,79.1680212121974,83.2291169662332,87.588981758796,92.2750266870584,97.3174668415228,102.749589251985,108.608029030285,114.933045234584,121.768783436643,129.16350566734,137.169759765985,145.844448440159,155.248742679959,165.447763566747,176.509929941582,188.505835987702,201.506482223488,215.580636627703,230.791052937855,247.18922801704,264.808353624922,283.654133710919,303.693233017532,324.839347052957,346.93729852266,369.746228328706,392.923881617869,416.01512258207,438.448917965918,459.548667336477,478.560299143416,494.700365866446,507.222213490453,515.492775011414,519.067324489103,517.746971676728,511.605655344834,500.980017368654,486.424668512508,468.643522492366,448.412127305472,426.505310148905,403.640171362994,380.438813884116,357.410263843577,334.947929663747,313.337755780399,292.772442991412,273.368065559898,255.180576458353,238.22073385115,222.466770715441,207.874653230823,194.386078149953,181.934506826041,170.449580414906,159.860250118128,150.096917522036,141.092831243683,132.784937364045,125.114337470096,118.026471396843,111.471112111411,105.402236941805,99.7778215352108,94.5595895060411,89.7127407650019,85.205674211617,81.0097151779587,77.0988542218152,73.449501190435,70.040256613269,66.8517012101671,63.8662034542803,61.0677445842327,58.4417601285653,55.9749968221459,53.6553837123647,51.4719162389776,49.4145521016041,47.4741177863474,45.6422246961263,43.9111939100607,42.2739886802603,40.7241538560962,80,100],\"fNormalized\":false,\"fNormIntegral\":0,\"fFormula\":{\"_typename\":\"TFormula\",\"fUniqueID\":0,\"fBits\":50332672,\"fName\":\"myBreitWigner\",\"fTitle\":\"[norm]*TMath::BreitWigner(x, [mean], [gamma])\",\"fClingParameters\":[5.80783707609358,90.0462236503492,4736.61424737679],\"fAllParametersSetted\":true,\"fParams\":[{\"$pair\":\"pair<TString,int,TFormulaParamOrder>\",\"first\":\"gamma\",\"second\":0},{\"$pair\":\"pair<TString,int,TFormulaParamOrder>\",\"first\":\"mean\",\"second\":1},{\"$pair\":\"pair<TString,int,TFormulaParamOrder>\",\"first\":\"norm\",\"second\":2}],\"fFormula\":\"[norm]*TMath::BreitWigner(x,[mean],[gamma])\",\"fNdim\":1,\"fLinearParts\":[],\"fVectorized\":false},\"fParams\":null,\"fComposition_ptr\":null}],\"opt\":[\"brNDC\",\"\"]},\"fBufferSize\":0,\"fBuffer\":[],\"fBinStatErrOpt\":0,\"fStatOverflows\":2,\"fArray\":[0,0,0,3,7,11,8,9,14,12,43,22,13,13,7,4,6,11,7,8,11,4,4,2,6,2,7,3,10,9,7,6,6,9,7,12,11,9,11,9,9,9,6,4,8,7,4,10,11,8,9,3,5,5,6,11,10,15,3,10,7,9,18,8,12,8,13,12,12,10,13,12,10,11,15,15,22,22,27,34,31,36,71,83,81,121,171,234,281,371,486,494,429,361,238,154,95,59,58,28,34,14,11,13,11,14,4,10,7,14,4,2,6,6,5,5,1,6,2,5,1,1,0,1,2,1,2,2,2,0,3,3,1,2,0,1,1,2,1,0,4,1,1,3,0,1,2,2,1,0,0,50]},{\"_typename\":\"TH1F\",\"fUniqueID\":0,\"fBits\":50331656,\"fName\":\"InvariantMass_mc2e_ee\",\"fTitle\":\"\",\"fLineColor\":600,\"fLineStyle\":1,\"fLineWidth\":1,\"fFillColor\":600,\"fFillStyle\":1001,\"fMarkerColor\":1,\"fMarkerStyle\":1,\"fMarkerSize\":1,\"fNcells\":152,\"fXaxis\":{\"_typename\":\"TAxis\",\"fUniqueID\":0,\"fBits\":50331648,\"fName\":\"xaxis\",\"fTitle\":\" Invariant mass [GeV]\",\"fNdivisions\":510,\"fAxisColor\":1,\"fLabelColor\":1,\"fLabelFont\":42,\"fLabelOffset\":0.005,\"fLabelSize\":0.035,\"fTickLength\":0.03,\"fTitleOffset\":1,\"fTitleSize\":0.035,\"fTitleColor\":1,\"fTitleFont\":42,\"fNbins\":150,\"fXmin\":0,\"fXmax\":150,\"fXbins\":[],\"fFirst\":0,\"fLast\":0,\"fBits2\":0,\"fTimeDisplay\":false,\"fTimeFormat\":\"\",\"fLabels\":null,\"fModLabs\":null},\"fYaxis\":{\"_typename\":\"TAxis\",\"fUniqueID\":0,\"fBits\":50331656,\"fName\":\"yaxis\",\"fTitle\":\" Number of events\",\"fNdivisions\":510,\"fAxisColor\":1,\"fLabelColor\":1,\"fLabelFont\":42,\"fLabelOffset\":0.005,\"fLabelSize\":0.035,\"fTickLength\":0.03,\"fTitleOffset\":0,\"fTitleSize\":0.035,\"fTitleColor\":1,\"fTitleFont\":42,\"fNbins\":1,\"fXmin\":0,\"fXmax\":1,\"fXbins\":[],\"fFirst\":0,\"fLast\":0,\"fBits2\":0,\"fTimeDisplay\":false,\"fTimeFormat\":\"\",\"fLabels\":null,\"fModLabs\":null},\"fZaxis\":{\"_typename\":\"TAxis\",\"fUniqueID\":0,\"fBits\":50331648,\"fName\":\"zaxis\",\"fTitle\":\"\",\"fNdivisions\":510,\"fAxisColor\":1,\"fLabelColor\":1,\"fLabelFont\":42,\"fLabelOffset\":0.005,\"fLabelSize\":0.035,\"fTickLength\":0.03,\"fTitleOffset\":1,\"fTitleSize\":0.035,\"fTitleColor\":1,\"fTitleFont\":42,\"fNbins\":1,\"fXmin\":0,\"fXmax\":1,\"fXbins\":[],\"fFirst\":0,\"fLast\":0,\"fBits2\":0,\"fTimeDisplay\":false,\"fTimeFormat\":\"\",\"fLabels\":null,\"fModLabs\":null},\"fBarOffset\":0,\"fBarWidth\":1000,\"fEntries\":9945,\"fTsumw\":9893,\"fTsumw2\":9893,\"fTsumwx\":881947.72579961,\"fTsumwx2\":79286359.6476631,\"fMaximum\":-1111,\"fMinimum\":-1111,\"fNormFactor\":0,\"fContour\":[],\"fSumw2\":[0,0,0,0,0,0,0,0,0,0,0,0,0.195500398954422,0,0,0,0,0,0,0,0,0,0,0,0,0,0,0,0,0,0.195500398954422,0,0.195500398954422,0,0,0.586501196863266,0.195500398954422,0,0.195500398954422,0.391000797908844,0.391000797908844,0.195500398954422,0.391000797908844,0.195500398954422,0.195500398954422,0.586501196863266,0.586501196863266,0.782001595817687,0.195500398954422,0,0.195500398954422,0.586501196863266,0.391000797908844,0.195500398954422,0.977501994772109,0,0.977501994772109,0.977501994772109,0.782001595817687,0.782001595817687,2.54150518640748,2.54150518640748,4.4965091759517,3.51900718117959,4.4965091759517,1.56400319163537,4.10550837804286,4.10550837804286,3.71450758013401,5.86501196863266,5.47401117072381,4.88750997386054,7.62451555922245,6.45151316549592,5.66951156967823,7.42901516026803,7.23351476131361,10.5570215435388,8.21101675608572,13.2940271289007,16.4220335121714,19.7455402943966,26.3925538588469,31.8665650295708,42.619086972064,56.8906160957368,75.2676535974524,101.855707855254,140.17378605032,181.619870628658,196.477900949194,216.809942440454,188.071383794154,151.512809189677,101.464707057345,70.9666448204551,48.4840989406966,25.8060526619837,19.941040693351,17.3995355069435,12.3165251341286,7.23351476131361,5.27851077176939,3.32350678222517,2.73700558536191,3.51900718117959,4.10550837804286,3.32350678222517,2.54150518640748,2.34600478745306,1.36850279268095,2.54150518640748,2.54150518640748,2.34600478745306,1.95500398954422,1.56400319163537,0.977501994772109,0.391000797908844,0.977501994772109,2.34600478745306,1.56400319163537,0.782001595817687,0.782001595817687,0.586501196863266,0.782001595817687,0.586501196863266,0.977501994772109,0.977501994772109,0.586501196863266,1.36850279268095,0.391000797908844,0.782001595817687,0.195500398954422,0,0.586501196863266,0.391000797908844,0,0.586501196863266,0.195500398954422,0.195500398954422,0.391000797908844,0.391000797908844,0.195500398954422,0.586501196863266,0.586501196863266,0.586501196863266,0.195500398954422,0.195500398954422,0,0,0,10.1660207456299],\"fOption\":\"\",\"fFunctions\":{\"_typename\":\"TList\",\"name\":\"TList\",\"arr\":[{\"_typename\":\"TPaveStats\",\"fUniqueID\":0,\"fBits\":50331657,\"fLineColor\":1,\"fLineStyle\":1,\"fLineWidth\":1,\"fFillColor\":0,\"fFillStyle\":1001,\"fX1\":127.500003799796,\"fY1\":500.175007453189,\"fX2\":165.000004917383,\"fY2\":618.735006569848,\"fX1NDC\":0.780000016093254,\"fY1NDC\":0.775000005960464,\"fX2NDC\":0.980000019073486,\"fY2NDC\":0.935000002384186,\"fBorderSize\":1,\"fInit\":1,\"fShadowColor\":1,\"fCornerRadius\":0,\"fOption\":\"brNDC\",\"fName\":\"stats\",\"fTextAngle\":0,\"fTextSize\":0,\"fTextAlign\":12,\"fTextColor\":1,\"fTextFont\":42,\"fLabel\":\"\",\"fLongest\":21,\"fMargin\":0.05,\"fLines\":{\"_typename\":\"TList\",\"name\":\"TList\",\"arr\":[{\"_typename\":\"TLatex\",\"fUniqueID\":0,\"fBits\":50331648,\"fName\":\"\",\"fTitle\":\"InvariantMass_mc2e_ee\",\"fTextAngle\":0,\"fTextSize\":0.0368,\"fTextAlign\":0,\"fTextColor\":0,\"fTextFont\":0,\"fX\":0,\"fY\":0,\"fLineColor\":1,\"fLineStyle\":1,\"fLineWidth\":2,\"fLimitFactorSize\":3,\"fOriginSize\":0.0368000008165836},{\"_typename\":\"TLatex\",\"fUniqueID\":0,\"fBits\":50331648,\"fName\":\"\",\"fTitle\":\"Entries = 9945   \",\"fTextAngle\":0,\"fTextSize\":0,\"fTextAlign\":0,\"fTextColor\":0,\"fTextFont\":0,\"fX\":0,\"fY\":0,\"fLineColor\":1,\"fLineStyle\":1,\"fLineWidth\":2,\"fLimitFactorSize\":3,\"fOriginSize\":0.04},{\"_typename\":\"TLatex\",\"fUniqueID\":0,\"fBits\":50331648,\"fName\":\"\",\"fTitle\":\"Mean  =  89.15\",\"fTextAngle\":0,\"fTextSize\":0,\"fTextAlign\":0,\"fTextColor\":0,\"fTextFont\":0,\"fX\":0,\"fY\":0,\"fLineColor\":1,\"fLineStyle\":1,\"fLineWidth\":2,\"fLimitFactorSize\":3,\"fOriginSize\":0.04},{\"_typename\":\"TLatex\",\"fUniqueID\":0,\"fBits\":50331648,\"fName\":\"\",\"fTitle\":\"Std Dev   =   8.18\",\"fTextAngle\":0,\"fTextSize\":0,\"fTextAlign\":0,\"fTextColor\":0,\"fTextFont\":0,\"fX\":0,\"fY\":0,\"fLineColor\":1,\"fLineStyle\":1,\"fLineWidth\":2,\"fLimitFactorSize\":3,\"fOriginSize\":0.04}],\"opt\":[\"\",\"\",\"\",\"\"]},\"fOptFit\":0,\"fOptStat\":1111,\"fFitFormat\":\"5.4g\",\"fStatFormat\":\"6.4g\",\"fParent\":{\"$ref\":16}}],\"opt\":[\"brNDC\"]},\"fBufferSize\":0,\"fBuffer\":[],\"fBinStatErrOpt\":0,\"fStatOverflows\":2,\"fArray\":[0,0,0,0,0,0,0,0,0,0,0,0,0.4421543,0,0,0,0,0,0,0,0,0,0,0,0,0,0,0,0,0,0.4421543,0,0.4421543,0,0,1.326463,0.4421543,0,0.4421543,0.8843085,0.8843085,0.4421543,0.8843085,0.4421543,0.4421543,1.326463,1.326463,1.768617,0.4421543,0,0.4421543,1.326463,0.8843085,0.4421543,2.210771,0,2.210771,2.210771,1.768617,1.768617,5.748005,5.748005,10.16955,7.958776,10.16955,3.537234,9.285239,9.285239,8.40093,13.26463,12.38032,11.05386,17.24402,14.59109,12.82247,16.80186,16.35971,23.87633,18.57048,30.06649,37.14096,44.65758,59.69082,72.07114,96.38963,128.6669,170.2294,230.3624,317.0246,410.7613,444.365,490.3491,425.3524,342.6696,229.4781,160.502,109.6543,58.36436,45.09974,39.35173,27.85572,16.35971,11.93816,7.516623,6.19016,7.958776,9.285239,7.516623,5.748005,5.305851,3.09508,5.748005,5.748005,5.305851,4.421543,3.537234,2.210771,0.8843085,2.210771,5.305851,3.537234,1.768617,1.768617,1.326463,1.768617,1.326463,2.210771,2.210771,1.326463,3.09508,0.8843085,1.768617,0.4421543,0,1.326463,0.8843085,0,1.326463,0.4421543,0.4421543,0.8843085,0.8843085,0.4421543,1.326463,1.326463,1.326463,0.4421543,0.4421543,0,0,0,22.99202]},{\"$ref\":3}],\"opt\":[\"\",\"E\",\"HIST SAME\",\"SAME E\"]},\"fExecs\":null,\"fName\":\"Invariant mass ee data-MC\",\"fTitle\":\"Invariant mass ee data-MC\",\"fNumPaletteColor\":0,\"fNextPaletteColor\":0,\"fDISPLAY\":\"$DISPLAY\",\"fDoubleBuffer\":0,\"fRetained\":true,\"fXsizeUser\":0,\"fYsizeUser\":0,\"fXsizeReal\":20,\"fYsizeReal\":15,\"fWindowTopX\":0,\"fWindowTopY\":0,\"fWindowWidth\":0,\"fWindowHeight\":0,\"fCw\":796,\"fCh\":572,\"fCatt\":{\"_typename\":\"TAttCanvas\",\"fXBetween\":2,\"fYBetween\":2,\"fTitleFromTop\":1.2,\"fXdate\":0.2,\"fYdate\":0.3,\"fAdate\":1},\"kMoveOpaque\":true,\"kResizeOpaque\":true,\"fHighLightColor\":2,\"fBatch\":true,\"kShowEventStatus\":false,\"kAutoExec\":true,\"kMenuBar\":true});\n",
       "       Core.draw(\"root_plot_18\", obj, \"\");\n",
       "     }\n",
       " );\n",
       "</script>\n"
      ],
      "text/plain": [
       "<IPython.core.display.HTML object>"
      ]
     },
     "metadata": {},
     "output_type": "display_data"
    }
   ],
   "source": [
    "# now let's draw both data and MC so that we can see how well the simulations\n",
    "# describe the data\n",
    "\n",
    "# let's look at the ee case first\n",
    "eeCanvas = ROOT.TCanvas(\"Invariant mass ee data-MC\", \"Invariant mass ee data-MC\", 800, 600)\n",
    "\n",
    "yMax = 1.2*massHistos[\"data_ee\"].GetBinContent(massHistos[\"data_ee\"].GetMaximumBin())\n",
    "massHistos[\"data_ee\"].GetYaxis().SetRangeUser(0, yMax)\n",
    "massHistos[\"data_ee\"].Draw(\"E\") # \"E\" draws data points with simple error bars\n",
    "\n",
    "# scale the MC histogram to the data to more easily compare the shapes\n",
    "# use the integral around the peak to normalize\n",
    "maxBinMC = massHistos[\"mc2e_ee\"].GetMaximumBin()\n",
    "integralMC = massHistos[\"mc2e_ee\"].Integral(maxBinMC-3, maxBinMC+3)\n",
    "maxBinData = massHistos[\"data_ee\"].GetMaximumBin()\n",
    "integralData = massHistos[\"data_ee\"].Integral(maxBinData-3, maxBinData+3)\n",
    "massHistos[\"mc2e_ee\"].Scale(integralData/integralMC)\n",
    "\n",
    "massHistos[\"mc2e_ee\"].SetLineColor(ROOT.kBlue)\n",
    "massHistos[\"mc2e_ee\"].SetFillColor(ROOT.kBlue)\n",
    "massHistos[\"mc2e_ee\"].Draw(\"HIST SAME\")\n",
    "\n",
    "massHistos[\"data_ee\"].Draw(\"SAME E\") # draw the data again so that it's on top\n",
    "\n",
    "eeCanvas.Draw()"
   ]
  },
  {
   "cell_type": "code",
   "execution_count": null,
   "metadata": {},
   "outputs": [],
   "source": [
    "# now do the same for the muon-antimuon pairs!\n",
    "\n",
    "..."
   ]
  },
  {
   "cell_type": "markdown",
   "metadata": {},
   "source": [
    "### You're now ready to go hunting for new particles yourself in [4-Explore](4-Explore.ipynb)!"
   ]
  },
  {
   "cell_type": "code",
   "execution_count": null,
   "metadata": {},
   "outputs": [],
   "source": []
  }
 ],
 "metadata": {
  "kernelspec": {
   "display_name": "Python 3",
   "language": "python",
   "name": "python3"
  },
  "language_info": {
   "codemirror_mode": {
    "name": "ipython",
    "version": 3
   },
   "file_extension": ".py",
   "mimetype": "text/x-python",
   "name": "python",
   "nbconvert_exporter": "python",
   "pygments_lexer": "ipython3",
   "version": "3.6.6"
  }
 },
 "nbformat": 4,
 "nbformat_minor": 2
}
