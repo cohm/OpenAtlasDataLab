{
 "cells": [
  {
   "cell_type": "markdown",
   "metadata": {},
   "source": [
    "## <CENTER> The $Z^0$ boson as an example\n",
    "_____________________________________________"
   ]
  },
  {
   "cell_type": "markdown",
   "metadata": {},
   "source": [
    "### Using what you have learned so far, let's see if we can find the $Z^0$ boson as an example!\n",
    "_____________________________________________"
   ]
  },
  {
   "cell_type": "code",
   "execution_count": null,
   "metadata": {},
   "outputs": [],
   "source": [
    "# import the ROOT library\n",
    "import ROOT"
   ]
  },
  {
   "cell_type": "markdown",
   "metadata": {},
   "source": [
    "### Get the data"
   ]
  },
  {
   "cell_type": "markdown",
   "metadata": {},
   "source": [
    "There are several data sets from ATLAS that are publicly available, and you can find the latest batch from 2020 at this URL: https://atlas-opendata.web.cern.ch/atlas-opendata/samples/2020/\n",
    "\n",
    "Clicking around on the above page, you will find simulated data and real experimental data, in divided into categories based on the final states seen by the ATLAS detector. For this exercise we want to study the Z boson decaying to charged leptons, so we'll look at so-called dilepton events. Navigate into the \"2lep\" directory, then \"data\". You will find several files - let's see how we can access these from our code!\n"
   ]
  },
  {
   "cell_type": "code",
   "execution_count": null,
   "metadata": {},
   "outputs": [],
   "source": [
    "# we can load all the files in sequence in a \"chain\"\n",
    "# the tree we want to access inside the files is called \"mini\"\n",
    "chains = {}\n",
    "chains[\"data\"] = ROOT.TChain(\"mini\")\n",
    "\n",
    "# there are several files for the data\n",
    "chains[\"data\"].Add(\"https://atlas-opendata.web.cern.ch/atlas-opendata/samples/2020/2lep/Data/data_A.2lep.root\")\n",
    "#chain.Add(\"...\") # add more files to the chain here\n",
    "#chain.Add(\"...\")\n",
    "#chain.Add(\"...\")\n",
    "\n",
    "# let's also look at some simulated data - there are lots of processes that can give two leptons \n",
    "# listed in the MC dir, but we'll only use Z(ee) and Z(mumu) for now\n",
    "chains[\"mc2e\"] = ROOT.TChain(\"mini\")\n",
    "chains[\"mc2e\"].Add(\"https://atlas-opendata.web.cern.ch/atlas-opendata/samples/2020/2lep/MC/mc_361106.Zee.2lep.root\")\n",
    "chains[\"mc2mu\"] = ROOT.TChain(\"mini\")\n",
    "chains[\"mc2mu\"].Add(\"https://atlas-opendata.web.cern.ch/atlas-opendata/samples/2020/2lep/MC/mc_361107.Zmumu.2lep.root\")\n",
    "\n",
    "for s in chains:\n",
    "    print(\"Loaded sample %s containing %d events\" % (s, chains[s].GetEntries()))"
   ]
  },
  {
   "cell_type": "markdown",
   "metadata": {},
   "source": [
    "### Helper function for invariant mass"
   ]
  },
  {
   "cell_type": "code",
   "execution_count": null,
   "metadata": {},
   "outputs": [],
   "source": [
    "# this function calculates the invariant mass of a two-particle system\n",
    "def getInvMass(lep1_pt, lep1_eta, lep1_phi, lep2_pt, lep2_eta, lep2_phi):\n",
    "    ''' Compute the invariant mass using the formula from the Introduction notebook (assume massless particles)'''\n",
    "    import math\n",
    "    m2 = 2*lep1_pt*lep2_pt*(math.cosh(lep1_eta-lep2_eta)-math.cos(lep1_phi-lep2_phi))\n",
    "    return math.sqrt(m2)"
   ]
  },
  {
   "cell_type": "markdown",
   "metadata": {},
   "source": [
    "### Prepare histograms"
   ]
  },
  {
   "cell_type": "code",
   "execution_count": null,
   "metadata": {},
   "outputs": [],
   "source": [
    "# create a histogram for invariant mass\n",
    "\n",
    "# define the number of bins and axis range\n",
    "nBins = 150\n",
    "lowerEdge = 0\n",
    "upperEdge = 150\n",
    "\n",
    "# make a python dictionary holding the histograms for each of the samples\n",
    "massHistos = {}\n",
    "\n",
    "# loop over the samples to create the histograms and the counters\n",
    "for sample in chains:\n",
    "    massHistos[sample+\"_ee\"] = ROOT.TH1F(\"InvariantMass_%s_ee\" % sample, \"; Invariant mass [GeV]; Number of events\", nBins, lowerEdge, upperEdge)\n",
    "    massHistos[sample+\"_mumu\"] = ROOT.TH1F(\"InvariantMass_%s_mumu\" % sample, \"; Invariant mass [GeV]; Number of events\", nBins, lowerEdge, upperEdge)\n",
    "    \n"
   ]
  },
  {
   "cell_type": "markdown",
   "metadata": {},
   "source": [
    "### Run the event loop, find electron-positron/muon-antimuon pairs, evaluate the invariant mass, fill histogram(s). You are looking at data-not all events will contain a $Z^0$ boson. What cuts/requirements do you need to apply to filter out $Z^0$ boson candidate events? In the notebook 1 the different variables in the tree are listed."
   ]
  },
  {
   "cell_type": "code",
   "execution_count": null,
   "metadata": {},
   "outputs": [],
   "source": [
    "# clear the histogram, so you don't fill the same events several times if you re-run the loop\n",
    "for s in massHistos:\n",
    "    massHistos[s].Reset()\n",
    "\n",
    "# loop over all of the samples, i.e. both data and the two simulated MC samples\n",
    "for s in chains:\n",
    "    # keep track of the number of events processed\n",
    "    nEvents = 0\n",
    "    maxEvents = 10000 # stop after this many events, useful during development\n",
    "    # also keep track of the number of electron-positron and muon-antimuon pairs found\n",
    "    for event in chains[s]:\n",
    "        if nEvents > maxEvents:\n",
    "            break\n",
    "        # only process events which have exactly two leptons in them, as we expect for Z->ll\n",
    "        if event.lep_n == 2:\n",
    "            # skip events with different-flavor lepton pairs\n",
    "            if event.lep_type[0] != event.lep_type[1]:\n",
    "                continue\n",
    "            # also skip events with same-sign leptons, we don't expect that from Z decays\n",
    "            if event.lep_charge[0] == event.lep_charge[1]:\n",
    "                continue\n",
    "            m = getInvMass(event.lep_pt[0], event.lep_eta[0], event.lep_phi[0],\n",
    "                          event.lep_pt[1], event.lep_eta[1], event.lep_phi[1])\n",
    "            # fill the right histogram depending on the type of lepton pair found\n",
    "            if event.lep_type[0] == 11:\n",
    "                massHistos[s+\"_ee\"].Fill(m/1000) # divide by 1000 to go from MeV to GeV\n",
    "            elif event.lep_type[0] == 13:\n",
    "                massHistos[s+\"_mumu\"].Fill(m/1000) # divide by 1000 to go from MeV to GeV\n",
    "            if nEvents % 1000 == 0: # only do a print-out every 1000 events\n",
    "                print(\"Processed event %d of %s, filled m = %f\" % (nEvents, s, m))\n",
    "        nEvents += 1"
   ]
  },
  {
   "cell_type": "markdown",
   "metadata": {},
   "source": [
    "**Note:**: Since it takes a long time to run over all data, only run over a small number of events while developing. Then, when you are satisfied with the method, you can increase the number of events."
   ]
  },
  {
   "cell_type": "markdown",
   "metadata": {},
   "source": [
    "### Draw the invariant mass distribution - do you see the $Z^0$ boson peak?\n",
    "\n",
    "Let's first have a look at the two MC samples, to see if there are any significant differences expected between electrons and muons"
   ]
  },
  {
   "cell_type": "code",
   "execution_count": null,
   "metadata": {},
   "outputs": [],
   "source": [
    "# let's look at the ee case first\n",
    "eeDataCanvas = ROOT.TCanvas(\"Invariant mass ee\", \"Invariant mass ee\", 800, 600)\n",
    "\n",
    "massHistos[\"data_ee\"].SetMarkerStyle(20)\n",
    "massHistos[\"data_ee\"].SetLineColor(1)\n",
    "massHistos[\"data_ee\"].Draw() # draw once so that the histogram has axes\n",
    "# then set the y-axis range\n",
    "yMax = 1.2*massHistos[\"data_ee\"].GetBinContent(massHistos[\"data_ee\"].GetMaximumBin())\n",
    "massHistos[\"data_ee\"].GetYaxis().SetRangeUser(0, yMax)\n",
    "massHistos[\"data_ee\"].Draw(\"E\") # \"E\" draws data points with simple error bars\n",
    "\n",
    "eeDataCanvas.Draw()"
   ]
  },
  {
   "cell_type": "code",
   "execution_count": null,
   "metadata": {},
   "outputs": [],
   "source": [
    "# now let's try to fit a Breit-Wigner curve to the measured invariant mass distribution\n",
    "\n",
    "# let's define a B-W function with a normalization parameter, and set reasonable starting values\n",
    "bw = ROOT.TF1(\"myBreitWigner\", \"[norm]*TMath::BreitWigner(x, [mean], [gamma])\", 80, 100)\n",
    "bw.SetParameter(\"norm\", 100)\n",
    "bw.SetParameter(\"mean\", 90)\n",
    "bw.SetParameter(\"gamma\", 3)\n",
    "\n",
    "# do the fit\n",
    "fitResult = massHistos[\"data_ee\"].Fit(bw, \"L S\", \"\", 80, 100)\n",
    "print(\"\\n*** Chi^2 sum = {:.1f}, N_DoF = {}, ratio = {:.1f}\".format(fitResult.Chi2(),\n",
    "                                                                    fitResult.Ndf(),\n",
    "                                                                    fitResult.Chi2()/fitResult.Ndf()))\n",
    "\n",
    "# draw the canvas again to see the fit\n",
    "eeDataCanvas.Draw()"
   ]
  },
  {
   "cell_type": "markdown",
   "metadata": {},
   "source": [
    "### How good is the fit? Can you improve the it?\n",
    "Does the measured mass come out near the true value? What does the $\\chi^2/N_{DoF}$ say about the fit quality? \n",
    "\n",
    "**If you want to get better at the craft of fitting:**\n",
    "* What can you do to improve the fit? \n",
    "* Could adding a (small) additional function that describes the background help? \n",
    "* Could something be done to account for the effects from imperfect detector/measurements?"
   ]
  },
  {
   "cell_type": "code",
   "execution_count": null,
   "metadata": {
    "scrolled": false
   },
   "outputs": [],
   "source": [
    "# now let's draw both data and MC so that we can see how well the simulations\n",
    "# describe the data\n",
    "\n",
    "# let's look at the ee case first\n",
    "eeCanvas = ROOT.TCanvas(\"Invariant mass ee data-MC\", \"Invariant mass ee data-MC\", 800, 600)\n",
    "\n",
    "yMax = 1.2*massHistos[\"data_ee\"].GetBinContent(massHistos[\"data_ee\"].GetMaximumBin())\n",
    "massHistos[\"data_ee\"].GetYaxis().SetRangeUser(0, yMax)\n",
    "massHistos[\"data_ee\"].Draw(\"E\") # \"E\" draws data points with simple error bars\n",
    "\n",
    "# scale the MC histogram to the data to more easily compare the shapes\n",
    "# use the integral around the peak to normalize\n",
    "maxBinMC = massHistos[\"mc2e_ee\"].GetMaximumBin()\n",
    "integralMC = massHistos[\"mc2e_ee\"].Integral(maxBinMC-3, maxBinMC+3)\n",
    "maxBinData = massHistos[\"data_ee\"].GetMaximumBin()\n",
    "integralData = massHistos[\"data_ee\"].Integral(maxBinData-3, maxBinData+3)\n",
    "massHistos[\"mc2e_ee\"].Scale(integralData/integralMC)\n",
    "\n",
    "massHistos[\"mc2e_ee\"].SetLineColor(ROOT.kAzure-9)\n",
    "massHistos[\"mc2e_ee\"].SetFillColor(ROOT.kAzure-9)\n",
    "massHistos[\"mc2e_ee\"].Draw(\"HIST SAME\")\n",
    "\n",
    "massHistos[\"data_ee\"].Draw(\"SAME E\") # draw the data again so that it's on top\n",
    "\n",
    "eeCanvas.Draw()"
   ]
  },
  {
   "cell_type": "code",
   "execution_count": null,
   "metadata": {},
   "outputs": [],
   "source": [
    "# now do the same for the muon-antimuon pairs!\n",
    "\n",
    "..."
   ]
  },
  {
   "cell_type": "markdown",
   "metadata": {},
   "source": [
    "### You're now ready to go hunting for new particles yourself in [4-Explore](4-Explore.ipynb)!"
   ]
  }
 ],
 "metadata": {
  "kernelspec": {
   "display_name": "Python 3",
   "language": "python",
   "name": "python3"
  },
  "language_info": {
   "codemirror_mode": {
    "name": "ipython",
    "version": 3
   },
   "file_extension": ".py",
   "mimetype": "text/x-python",
   "name": "python",
   "nbconvert_exporter": "python",
   "pygments_lexer": "ipython3",
   "version": "3.8.2"
  }
 },
 "nbformat": 4,
 "nbformat_minor": 2
}
