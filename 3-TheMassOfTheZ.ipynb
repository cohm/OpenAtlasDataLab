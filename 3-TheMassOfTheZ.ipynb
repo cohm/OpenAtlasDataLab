{
 "cells": [
  {
   "cell_type": "markdown",
   "metadata": {},
   "source": [
    "## <CENTER> The $Z^0$ boson as an example\n",
    "_____________________________________________"
   ]
  },
  {
   "cell_type": "markdown",
   "metadata": {},
   "source": [
    "### Using what you have learned so far, let's see if we can find the $Z^0$ boson as an example!\n",
    "_____________________________________________"
   ]
  },
  {
   "cell_type": "code",
   "execution_count": null,
   "metadata": {},
   "outputs": [],
   "source": [
    "# import the ROOT library\n",
    "import ROOT"
   ]
  },
  {
   "cell_type": "markdown",
   "metadata": {},
   "source": [
    "### Get the data"
   ]
  },
  {
   "cell_type": "code",
   "execution_count": null,
   "metadata": {},
   "outputs": [],
   "source": [
    "# http://opendata.atlas.cern/release/samples/2019/\n",
    "# Look at the above web page, you will find simulated data and real experimental data.\n",
    "# The data is divided into different final states, and for this exercise we'll look\n",
    "# at dilepton events, so navigate into the \"2lep\" directory, then \"data\". There are several\n",
    "# files, and we can load them all sequentially in a \"chain\". The tree we want to access\n",
    "# inside the files is called \"mini\"\n",
    "chains = {}\n",
    "chains[\"data\"] = ROOT.TChain(\"mini\")\n",
    "chains[\"mc2e\"] = ROOT.TChain(\"mini\")\n",
    "chains[\"mc2mu\"] = ROOT.TChain(\"mini\")\n",
    "\n",
    "# there are several files for the data\n",
    "chains[\"data\"].Add(\"http://opendata.atlas.cern/release/samples/2019/2lep/Data/data_A.2lep.root\")\n",
    "#chain.Add(\"http://opendata.atlas.cern/release/samples/2019/2lep/Data/data_B.2lep.root\")\n",
    "#chain.Add(\"http://opendata.atlas.cern/release/samples/2019/2lep/Data/data_C.2lep.root\")\n",
    "#chain.Add(\"http://opendata.atlas.cern/release/samples/2019/2lep/Data/data_D.2lep.root\")\n",
    "\n",
    "chains[\"mc2e\"].Add(\"http://opendata.atlas.cern/release/samples/2019/2lep/MC/mc_361106.Zee.2lep.root\")\n",
    "chains[\"mc2mu\"].Add(\"http://opendata.atlas.cern/release/samples/2019/2lep/MC/mc_361107.Zmumu.2lep.root\")\n",
    "\n",
    "for s in chains:\n",
    "    print(\"Loaded sample %s containing %d events\" % (s, chains[s].GetEntries()))"
   ]
  },
  {
   "cell_type": "markdown",
   "metadata": {},
   "source": [
    "### Helper function for invariant mass"
   ]
  },
  {
   "cell_type": "code",
   "execution_count": null,
   "metadata": {},
   "outputs": [],
   "source": [
    "# this function calculates the invariant mass of a two-particle system\n",
    "def getInvMass(lep1_pt, lep1_eta, lep1_phi, lep2_pt, lep2_eta, lep2_phi):\n",
    "    ''' Compute the invariant mass using the formula from the Introduction notebook (assume massless particles)'''\n",
    "    import math\n",
    "    m2 = 2*lep1_pt*lep2_pt*(math.cosh(lep1_eta-lep2_eta)-math.cos(lep1_phi-lep2_phi))\n",
    "    return math.sqrt(m2) "
   ]
  },
  {
   "cell_type": "markdown",
   "metadata": {},
   "source": [
    "### Prepare histograms"
   ]
  },
  {
   "cell_type": "code",
   "execution_count": null,
   "metadata": {},
   "outputs": [],
   "source": [
    "# create a histogram for invariant mass\n",
    "\n",
    "# define the number of bins and axis range\n",
    "nBins = 150\n",
    "lowerEdge = 0\n",
    "upperEdge = 150\n",
    "\n",
    "# make a python dictionary holding the histograms for each of the samples\n",
    "massHistos = {}\n",
    "# also keep track of the number of ee and mumu pairs found in each sample\n",
    "eePairs = {}\n",
    "mumuPairs = {}\n",
    "\n",
    "# loop over the samples to create the histograms and the counters\n",
    "for sample in chains:\n",
    "    massHistos[sample] = ROOT.TH1F(\"InvariantMass_%s\" % sample, \"; Invariant mass [GeV]; Number of events\", nBins, lowerEdge, upperEdge)\n",
    "    eePairs[sample] = 0\n",
    "    mumuPairs[sample] = 0"
   ]
  },
  {
   "cell_type": "markdown",
   "metadata": {},
   "source": [
    "### Run the event loop, find electron-positron/muon-antimuon pairs, evaluate the invariant mass, fill histogram(s). You are looking at data-not all events will contain a $Z^0$ boson. What cuts/requirements do you need to apply to filter out $Z^0$ boson candidate events? In the notebook 1 the different variables in the tree are listed."
   ]
  },
  {
   "cell_type": "code",
   "execution_count": null,
   "metadata": {},
   "outputs": [],
   "source": [
    "# clear the histogram, so you don't fill the same events several times if you re-run the loop\n",
    "for s in massHistos:\n",
    "    massHistos[s].Reset()\n",
    "\n",
    "# loop over all of the samples, i.e. both data and the two simulated MC samples\n",
    "for s in chains:\n",
    "    # keep track of the number of events processed\n",
    "    nEvents = 0\n",
    "    maxEvents = 10000 # stop after this many events, useful during development\n",
    "    # also keep track of the number of electron-positron and muon-antimuon pairs found\n",
    "    for event in chains[s]:\n",
    "        if nEvents > maxEvents:\n",
    "            break\n",
    "        # only process events which have exactly two leptons in them, as we expect for Z->ll\n",
    "        if event.lep_n == 2:\n",
    "            # skip events with different-flavor lepton pairs\n",
    "            if event.lep_type[0] != event.lep_type[1]:\n",
    "                continue\n",
    "            # also skip events with same-sign leptons, we don't expect that from Z decays\n",
    "            if event.lep_charge[0] == event.lep_charge[1]:\n",
    "                continue\n",
    "            m = getInvMass(event.lep_pt[0], event.lep_eta[0], event.lep_phi[0],\n",
    "                          event.lep_pt[1], event.lep_eta[1], event.lep_phi[1])\n",
    "            massHistos[s].Fill(m/1000) # divide by 1000 to go from MeV to GeV\n",
    "            if nEvents % 1000 == 0: # only do a print-out every 1000 events\n",
    "                print(\"Processed event %d of %s, filled m = %f\" % (nEvents, s, m))\n",
    "            # increment the counters depending on the lepton pair found\n",
    "            if event.lep_type[0] == 11:\n",
    "                eePairs[s] += 1\n",
    "            elif event.lep_type[0] == 13:\n",
    "                mumuPairs[s] += 1\n",
    "        nEvents += 1"
   ]
  },
  {
   "cell_type": "markdown",
   "metadata": {},
   "source": [
    "**Note:**: Since it takes a long time to run over all data, only run over a small number of events while developing. Then, when you are satisfied with the method, you can increase the number of events."
   ]
  },
  {
   "cell_type": "markdown",
   "metadata": {},
   "source": [
    "### Draw the invariant mass. Do you see the $Z^0$ boson peak?\n",
    "\n",
    "Let's first have a look at the two MC samples, to see if there are any significant differences expected between electrons and muons"
   ]
  },
  {
   "cell_type": "code",
   "execution_count": null,
   "metadata": {},
   "outputs": [],
   "source": [
    "# magic to get interactive plots\n",
    "%jsroot on\n",
    "\n",
    "# to set the y-axis range\n",
    "yMax = 1.2*ROOT.TMath.Max(massHistos[\"mc2e\"].GetMaximum(), massHistos[\"mc2mu\"].GetMaximum())\n",
    "\n",
    "canvas = ROOT.TCanvas(\"Invariant mass\", \"Invariant mass\", 800, 600)\n",
    "massHistos[\"mc2e\"].SetLineColor(ROOT.kBlue)\n",
    "massHistos[\"mc2e\"].Draw()\n",
    "massHistos[\"mc2e\"].GetYaxis().SetRangeUser(0, yMax)\n",
    "massHistos[\"mc2e\"].Draw()\n",
    "massHistos[\"mc2mu\"].SetLineColor(ROOT.kRed)\n",
    "massHistos[\"mc2mu\"].Draw(\"SAME\") # \"SAME\" is needed to not draw over the first histo\n",
    "\n",
    "canvas.Draw()\n",
    "\n",
    "for s in chains:\n",
    "    if \"mc\" in s:\n",
    "        print(\"Sample %s: found %d ee pairs and %d mumu pairs\" % (s, eePairs[s], mumuPairs[s]))\n"
   ]
  },
  {
   "cell_type": "markdown",
   "metadata": {},
   "source": [
    "### Make a fit to the data. What function should you use? Do we need a signal plus background model? Try different functions and ranges. Look at 2-Fitting-with-ROOT for help."
   ]
  },
  {
   "cell_type": "code",
   "execution_count": null,
   "metadata": {},
   "outputs": [],
   "source": [
    "%run hints/hint3.py"
   ]
  },
  {
   "cell_type": "code",
   "execution_count": null,
   "metadata": {},
   "outputs": [],
   "source": [
    "### declare function\n",
    "func = ROOT.TF1(\"...\", ...)"
   ]
  },
  {
   "cell_type": "code",
   "execution_count": null,
   "metadata": {},
   "outputs": [],
   "source": [
    "h_mass.Fit(\"fcn_name\", \"S\", ...)\n",
    "canvas.Draw()"
   ]
  }
 ],
 "metadata": {
  "kernelspec": {
   "display_name": "Python 3",
   "language": "python",
   "name": "python3"
  },
  "language_info": {
   "codemirror_mode": {
    "name": "ipython",
    "version": 3
   },
   "file_extension": ".py",
   "mimetype": "text/x-python",
   "name": "python",
   "nbconvert_exporter": "python",
   "pygments_lexer": "ipython3",
   "version": "3.6.6"
  }
 },
 "nbformat": 4,
 "nbformat_minor": 2
}
