{
 "cells": [
  {
   "cell_type": "markdown",
   "metadata": {},
   "source": [
    "# Discover your own subatomic particle!\n",
    "\n",
    "You're now ready for the main exercise, to try to discover a particle in the data from the ATLAS experiment! There are a few short-lived particles that you can find in the provided dataset, and we have discussed one recently discovered particle more than others.\n",
    "\n",
    "Many particles can also be discovered through several different decay channels, and by looking at [for what final states](http://opendata.atlas.cern/release/samples/2019/) data and simulations are provided and combining with recent lecture notes, you can get some ideas. \n",
    "\n",
    "If you are having trouble getting started, the slides from lectures 16 and 17 provide some inspiration!\n",
    "\n",
    "It's a good idea to read through [5-Report](5-Report.ipynb) already now - then you know what you're expected to include in your report, and the instructions might also include some ideas that could help you. As these instructions explain, you can choose your level of ambition depending on what final grade you want to try to get for the full course:\n",
    "* For grades E, D or C: identifying a peak corresponding to the particle in the invariant-mass spectrum in the data is sufficient, if you can argue well that the peak can not be due to background processes.\n",
    "* For grades B or A: in addition to the above, use MC simulations to predict what the signal you're searching for will look like (if they are available - ask me if you're not sure!), and for the main background processes - this helps to build confidence that you're interpreting the data correctly.\n",
    "\n",
    "*Don't hesitate to get in touch if you get stuck or run into problems!*\n",
    "\n",
    "Best,\n",
    "Christian (chohm@kth.se)\n",
    "\n",
    "PS. The $Z$ boson does not count since we used it as an example, but all other short-lived particles you can reconstruct from their decay products are ok! Decays that can be reconstructed fully, i.e. where all the decay products are measured, are generally easier, and those with low backgrounds from other processes are strongly recommended too."
   ]
  },
  {
   "cell_type": "code",
   "execution_count": null,
   "metadata": {},
   "outputs": [],
   "source": [
    "# now you need to write the code - feel free to take inspiration from the previous exercises, \n",
    "# but make sure you understand what the code does!\n",
    "\n",
    "# let's start by importing the ROOT library\n",
    "import ROOT\n",
    "\n",
    "# make dictionary that holds TChains for data, and maybe simulated MC samples\n",
    "trees = {}\n",
    "trees[\"data\"] = ROOT.TChain(\"mini\")\n",
    "\n",
    "trees[\"data\"].Add(\"...\") # put the URL to the file(s) you want to add in statements like this\n",
    "\n",
    "for s in trees:\n",
    "    print(\"Sample %s has %d events\" % (s, trees[s].GetEntries()))"
   ]
  },
  {
   "cell_type": "code",
   "execution_count": null,
   "metadata": {},
   "outputs": [],
   "source": [
    "# quick info about the added files\n",
    "trees[\"data\"].ls()"
   ]
  },
  {
   "cell_type": "code",
   "execution_count": null,
   "metadata": {},
   "outputs": [],
   "source": [
    "# You may want to use the handy TLorentzVector class for conveniently calculating \n",
    "# the invariant mass of many-particle systems, here's how\n",
    "\n",
    "# lepton masses can come in handy, in MeV\n",
    "leptonMasses = {11: 0.511, 13: 105.7}\n",
    "\n",
    "# example showing how to use TLorentzVectors, more details of what else you can easily\n",
    "# calculate for a many-particle system with the help of this class can be found at\n",
    "# https://root.cern.ch/doc/v606/classTLorentzVector.html\n",
    "tlv1 = ROOT.TLorentzVector()\n",
    "tlv1.SetPtEtaPhiM(..., ..., ..., leptonMasses[13]) # set the pT, eta, phi and rest mass of particle 1\n",
    "tlv1 = ROOT.TLorentzVector()\n",
    "tlv1.SetPtEtaPhiM(..., ..., ..., leptonMasses[13]) # do the same for particle 2\n",
    "invariantMass = (tlv1+tlv2).M() # calculate the invariant mass"
   ]
  },
  {
   "cell_type": "code",
   "execution_count": null,
   "metadata": {},
   "outputs": [],
   "source": [
    "# define a histogram for the invariant mass of the four-lepton systems found in the events, one for each sample\n",
    "histos = {}\n",
    "for sample in trees:\n",
    "    histos[sample] = ROOT.TH1F(\"myHisto\", \"Title; x-axis title [unit]; y-axis title [unit]\", 50, 0, 200.) \n",
    "\n",
    "# now loop over the events in each sample, look for events with the signature you're looking for,\n",
    "# and for those events calculate e.g. the invariant mass of the decay products from your particle\n",
    "for sample in trees:\n",
    "\n",
    "    processedEvents = 0\n",
    "    maxEvents = 1000 # handy while developing the code\n",
    "    for event in trees[sample]:\n",
    "        if processedEvents > maxEvents:\n",
    "            break\n",
    "\n",
    "        if event.lep_n >= ...: # for example - this of course depends on what particle/decay you look for!\n",
    "            ...\n",
    "            histos[sample].Fill(...)\n",
    "            \n",
    "        ...\n",
    "        processedEvents += 1"
   ]
  },
  {
   "cell_type": "code",
   "execution_count": null,
   "metadata": {},
   "outputs": [],
   "source": [
    "# open a canvas to draw the histogram on\n",
    "canvas = ROOT.TCanvas(\"Canvas\", \"Title\", 800, 600)\n",
    "# draw the histograms\n",
    "histos[\"data\"].Draw()\n",
    "\n",
    "...\n",
    "\n",
    "canvas.Draw()"
   ]
  },
  {
   "cell_type": "code",
   "execution_count": null,
   "metadata": {},
   "outputs": [],
   "source": [
    "# try to fit a function to the invariant mass distribution of the particle you found\n",
    "\n",
    "..."
   ]
  },
  {
   "cell_type": "markdown",
   "metadata": {},
   "source": [
    "### Now write up your work and results in a report - see [5-Report](5-Report.ipynb) for detailed instructions!"
   ]
  }
 ],
 "metadata": {
  "kernelspec": {
   "display_name": "Python 3",
   "language": "python",
   "name": "python3"
  },
  "language_info": {
   "codemirror_mode": {
    "name": "ipython",
    "version": 3
   },
   "file_extension": ".py",
   "mimetype": "text/x-python",
   "name": "python",
   "nbconvert_exporter": "python",
   "pygments_lexer": "ipython3",
   "version": "3.8.2"
  }
 },
 "nbformat": 4,
 "nbformat_minor": 2
}
