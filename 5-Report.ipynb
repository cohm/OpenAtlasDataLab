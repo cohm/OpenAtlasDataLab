{
 "cells": [
  {
   "cell_type": "markdown",
   "metadata": {},
   "source": [
    "## Lab report"
   ]
  },
  {
   "cell_type": "markdown",
   "metadata": {},
   "source": [
    "You are required to write a report describing your work and results. Here are a few things to remember:\n",
    "* Write the report as if a fellow student in the course that has not done the lab is the reader. She should be able to understand what you have done, how you did it, and why.\n",
    "* Explain briefly where the data comes from, how the ATLAS detector works and how it is used to detect different particles.\n",
    "* You don't have to describe the first exercises, they are meant as a tutorial - the report should focus on how you searched for your particle, and your results.\n",
    "* Explain what particle you chose to look for in the data, and outline and motivate the strategy you followed when searching for it.\n",
    "* Include a Feynman diagram of the decay you look for, and explain what interactions and couplings allow the decay to happen.\n",
    "* Did you make use of any simulated samples with the particle you're looking for to help guide your search? Or to know what you should expect the background processes to look like?\n",
    "* Explain how the data is filtered - are any selections made on the selected reconstructed particles and/or the events? \n",
    "* Explain in detail how the invariant mass distribution is constructed and how the fit is done. What function is used? Did you try to account for background processes in your fit?\n",
    "* All figures should have proper axis labels, units and legends as needed. Figures and tables must have captions and be referred to in the main text.\n",
    "* Summarize the evidence/indications you could find of the particle you chose to look for, and compare your measurements of it with reference values. Do they agree? If yes, good! If no, try to discuss possible reasons why. \n",
    "\n",
    "Of course, don't hesitate to contact me if you get stuck or run into problems! Write me an email and explain exactly what you're trying to do and what problem you're experiencing, and consider sending along your code so that I can reproduce the problem. \n",
    "\n",
    "*Best of luck with the particle hunt!*\n",
    "\n",
    "Best,\n",
    "Christian (chohm@kth.se)"
   ]
  },
  {
   "cell_type": "code",
   "execution_count": null,
   "metadata": {},
   "outputs": [],
   "source": []
  }
 ],
 "metadata": {
  "kernelspec": {
   "display_name": "Python 3",
   "language": "python",
   "name": "python3"
  },
  "language_info": {
   "codemirror_mode": {
    "name": "ipython",
    "version": 3
   },
   "file_extension": ".py",
   "mimetype": "text/x-python",
   "name": "python",
   "nbconvert_exporter": "python",
   "pygments_lexer": "ipython3",
   "version": "3.6.6"
  }
 },
 "nbformat": 4,
 "nbformat_minor": 2
}
